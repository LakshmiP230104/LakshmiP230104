{
 "cells": [
  {
   "cell_type": "code",
   "execution_count": 264,
   "id": "f9549b0b",
   "metadata": {},
   "outputs": [],
   "source": [
    "import pandas as pd"
   ]
  },
  {
   "cell_type": "code",
   "execution_count": 265,
   "id": "c9fe3507",
   "metadata": {},
   "outputs": [],
   "source": [
    "import numpy as np"
   ]
  },
  {
   "cell_type": "code",
   "execution_count": 266,
   "id": "dc1f3cf4",
   "metadata": {},
   "outputs": [
    {
     "name": "stdout",
     "output_type": "stream",
     "text": [
      "Requirement already satisfied: keras in c:\\users\\laksh\\anaconda3\\lib\\site-packages (2.14.0)Note: you may need to restart the kernel to use updated packages.\n",
      "\n"
     ]
    }
   ],
   "source": [
    "pip install keras"
   ]
  },
  {
   "cell_type": "code",
   "execution_count": 267,
   "id": "4130c783",
   "metadata": {},
   "outputs": [
    {
     "name": "stdout",
     "output_type": "stream",
     "text": [
      "Requirement already satisfied: tensorflow in c:\\users\\laksh\\anaconda3\\lib\\site-packages (2.14.0)Note: you may need to restart the kernel to use updated packages.\n",
      "\n",
      "Requirement already satisfied: tensorflow-intel==2.14.0 in c:\\users\\laksh\\anaconda3\\lib\\site-packages (from tensorflow) (2.14.0)\n",
      "Requirement already satisfied: absl-py>=1.0.0 in c:\\users\\laksh\\anaconda3\\lib\\site-packages (from tensorflow-intel==2.14.0->tensorflow) (2.0.0)\n",
      "Requirement already satisfied: astunparse>=1.6.0 in c:\\users\\laksh\\anaconda3\\lib\\site-packages (from tensorflow-intel==2.14.0->tensorflow) (1.6.3)\n",
      "Requirement already satisfied: flatbuffers>=23.5.26 in c:\\users\\laksh\\anaconda3\\lib\\site-packages (from tensorflow-intel==2.14.0->tensorflow) (23.5.26)\n",
      "Requirement already satisfied: gast!=0.5.0,!=0.5.1,!=0.5.2,>=0.2.1 in c:\\users\\laksh\\anaconda3\\lib\\site-packages (from tensorflow-intel==2.14.0->tensorflow) (0.5.4)\n",
      "Requirement already satisfied: google-pasta>=0.1.1 in c:\\users\\laksh\\anaconda3\\lib\\site-packages (from tensorflow-intel==2.14.0->tensorflow) (0.2.0)\n",
      "Requirement already satisfied: h5py>=2.9.0 in c:\\users\\laksh\\anaconda3\\lib\\site-packages (from tensorflow-intel==2.14.0->tensorflow) (3.7.0)\n",
      "Requirement already satisfied: libclang>=13.0.0 in c:\\users\\laksh\\anaconda3\\lib\\site-packages (from tensorflow-intel==2.14.0->tensorflow) (16.0.6)\n",
      "Requirement already satisfied: ml-dtypes==0.2.0 in c:\\users\\laksh\\anaconda3\\lib\\site-packages (from tensorflow-intel==2.14.0->tensorflow) (0.2.0)\n",
      "Requirement already satisfied: numpy>=1.23.5 in c:\\users\\laksh\\anaconda3\\lib\\site-packages (from tensorflow-intel==2.14.0->tensorflow) (1.24.3)\n",
      "Requirement already satisfied: opt-einsum>=2.3.2 in c:\\users\\laksh\\anaconda3\\lib\\site-packages (from tensorflow-intel==2.14.0->tensorflow) (3.3.0)\n",
      "Requirement already satisfied: packaging in c:\\users\\laksh\\anaconda3\\lib\\site-packages (from tensorflow-intel==2.14.0->tensorflow) (23.0)\n",
      "Requirement already satisfied: protobuf!=4.21.0,!=4.21.1,!=4.21.2,!=4.21.3,!=4.21.4,!=4.21.5,<5.0.0dev,>=3.20.3 in c:\\users\\laksh\\anaconda3\\lib\\site-packages (from tensorflow-intel==2.14.0->tensorflow) (4.24.4)\n",
      "Requirement already satisfied: setuptools in c:\\users\\laksh\\anaconda3\\lib\\site-packages (from tensorflow-intel==2.14.0->tensorflow) (68.0.0)\n",
      "Requirement already satisfied: six>=1.12.0 in c:\\users\\laksh\\anaconda3\\lib\\site-packages (from tensorflow-intel==2.14.0->tensorflow) (1.16.0)\n",
      "Requirement already satisfied: termcolor>=1.1.0 in c:\\users\\laksh\\anaconda3\\lib\\site-packages (from tensorflow-intel==2.14.0->tensorflow) (2.3.0)\n",
      "Requirement already satisfied: typing-extensions>=3.6.6 in c:\\users\\laksh\\anaconda3\\lib\\site-packages (from tensorflow-intel==2.14.0->tensorflow) (4.7.1)\n",
      "Requirement already satisfied: wrapt<1.15,>=1.11.0 in c:\\users\\laksh\\anaconda3\\lib\\site-packages (from tensorflow-intel==2.14.0->tensorflow) (1.14.1)\n",
      "Requirement already satisfied: tensorflow-io-gcs-filesystem>=0.23.1 in c:\\users\\laksh\\anaconda3\\lib\\site-packages (from tensorflow-intel==2.14.0->tensorflow) (0.31.0)\n",
      "Requirement already satisfied: grpcio<2.0,>=1.24.3 in c:\\users\\laksh\\anaconda3\\lib\\site-packages (from tensorflow-intel==2.14.0->tensorflow) (1.59.0)\n",
      "Requirement already satisfied: tensorboard<2.15,>=2.14 in c:\\users\\laksh\\anaconda3\\lib\\site-packages (from tensorflow-intel==2.14.0->tensorflow) (2.14.1)\n",
      "Requirement already satisfied: tensorflow-estimator<2.15,>=2.14.0 in c:\\users\\laksh\\anaconda3\\lib\\site-packages (from tensorflow-intel==2.14.0->tensorflow) (2.14.0)\n",
      "Requirement already satisfied: keras<2.15,>=2.14.0 in c:\\users\\laksh\\anaconda3\\lib\\site-packages (from tensorflow-intel==2.14.0->tensorflow) (2.14.0)\n",
      "Requirement already satisfied: wheel<1.0,>=0.23.0 in c:\\users\\laksh\\anaconda3\\lib\\site-packages (from astunparse>=1.6.0->tensorflow-intel==2.14.0->tensorflow) (0.38.4)\n",
      "Requirement already satisfied: google-auth<3,>=1.6.3 in c:\\users\\laksh\\anaconda3\\lib\\site-packages (from tensorboard<2.15,>=2.14->tensorflow-intel==2.14.0->tensorflow) (2.23.3)\n",
      "Requirement already satisfied: google-auth-oauthlib<1.1,>=0.5 in c:\\users\\laksh\\anaconda3\\lib\\site-packages (from tensorboard<2.15,>=2.14->tensorflow-intel==2.14.0->tensorflow) (1.0.0)\n",
      "Requirement already satisfied: markdown>=2.6.8 in c:\\users\\laksh\\anaconda3\\lib\\site-packages (from tensorboard<2.15,>=2.14->tensorflow-intel==2.14.0->tensorflow) (3.4.1)\n",
      "Requirement already satisfied: requests<3,>=2.21.0 in c:\\users\\laksh\\anaconda3\\lib\\site-packages (from tensorboard<2.15,>=2.14->tensorflow-intel==2.14.0->tensorflow) (2.31.0)\n",
      "Requirement already satisfied: tensorboard-data-server<0.8.0,>=0.7.0 in c:\\users\\laksh\\anaconda3\\lib\\site-packages (from tensorboard<2.15,>=2.14->tensorflow-intel==2.14.0->tensorflow) (0.7.1)\n",
      "Requirement already satisfied: werkzeug>=1.0.1 in c:\\users\\laksh\\anaconda3\\lib\\site-packages (from tensorboard<2.15,>=2.14->tensorflow-intel==2.14.0->tensorflow) (2.2.3)\n",
      "Requirement already satisfied: cachetools<6.0,>=2.0.0 in c:\\users\\laksh\\anaconda3\\lib\\site-packages (from google-auth<3,>=1.6.3->tensorboard<2.15,>=2.14->tensorflow-intel==2.14.0->tensorflow) (5.3.1)\n",
      "Requirement already satisfied: pyasn1-modules>=0.2.1 in c:\\users\\laksh\\anaconda3\\lib\\site-packages (from google-auth<3,>=1.6.3->tensorboard<2.15,>=2.14->tensorflow-intel==2.14.0->tensorflow) (0.2.8)\n",
      "Requirement already satisfied: rsa<5,>=3.1.4 in c:\\users\\laksh\\anaconda3\\lib\\site-packages (from google-auth<3,>=1.6.3->tensorboard<2.15,>=2.14->tensorflow-intel==2.14.0->tensorflow) (4.9)\n",
      "Requirement already satisfied: requests-oauthlib>=0.7.0 in c:\\users\\laksh\\anaconda3\\lib\\site-packages (from google-auth-oauthlib<1.1,>=0.5->tensorboard<2.15,>=2.14->tensorflow-intel==2.14.0->tensorflow) (1.3.1)\n",
      "Requirement already satisfied: charset-normalizer<4,>=2 in c:\\users\\laksh\\anaconda3\\lib\\site-packages (from requests<3,>=2.21.0->tensorboard<2.15,>=2.14->tensorflow-intel==2.14.0->tensorflow) (2.0.4)\n",
      "Requirement already satisfied: idna<4,>=2.5 in c:\\users\\laksh\\anaconda3\\lib\\site-packages (from requests<3,>=2.21.0->tensorboard<2.15,>=2.14->tensorflow-intel==2.14.0->tensorflow) (3.4)\n",
      "Requirement already satisfied: urllib3<3,>=1.21.1 in c:\\users\\laksh\\anaconda3\\lib\\site-packages (from requests<3,>=2.21.0->tensorboard<2.15,>=2.14->tensorflow-intel==2.14.0->tensorflow) (1.26.16)\n",
      "Requirement already satisfied: certifi>=2017.4.17 in c:\\users\\laksh\\anaconda3\\lib\\site-packages (from requests<3,>=2.21.0->tensorboard<2.15,>=2.14->tensorflow-intel==2.14.0->tensorflow) (2023.7.22)\n",
      "Requirement already satisfied: MarkupSafe>=2.1.1 in c:\\users\\laksh\\anaconda3\\lib\\site-packages (from werkzeug>=1.0.1->tensorboard<2.15,>=2.14->tensorflow-intel==2.14.0->tensorflow) (2.1.1)\n",
      "Requirement already satisfied: pyasn1<0.5.0,>=0.4.6 in c:\\users\\laksh\\anaconda3\\lib\\site-packages (from pyasn1-modules>=0.2.1->google-auth<3,>=1.6.3->tensorboard<2.15,>=2.14->tensorflow-intel==2.14.0->tensorflow) (0.4.8)\n",
      "Requirement already satisfied: oauthlib>=3.0.0 in c:\\users\\laksh\\anaconda3\\lib\\site-packages (from requests-oauthlib>=0.7.0->google-auth-oauthlib<1.1,>=0.5->tensorboard<2.15,>=2.14->tensorflow-intel==2.14.0->tensorflow) (3.2.2)\n"
     ]
    }
   ],
   "source": [
    "pip install tensorflow"
   ]
  },
  {
   "cell_type": "code",
   "execution_count": 268,
   "id": "12c67b83",
   "metadata": {},
   "outputs": [],
   "source": [
    "from sklearn.preprocessing import MinMaxScaler\n",
    "from keras.models import Sequential\n",
    "from keras.layers import Dense, Dropout, LSTM, Bidirectional"
   ]
  },
  {
   "cell_type": "code",
   "execution_count": 269,
   "id": "995e29fd",
   "metadata": {},
   "outputs": [],
   "source": [
    "#    Load Data"
   ]
  },
  {
   "cell_type": "code",
   "execution_count": 270,
   "id": "4510c5af",
   "metadata": {},
   "outputs": [
    {
     "data": {
      "text/html": [
       "<div>\n",
       "<style scoped>\n",
       "    .dataframe tbody tr th:only-of-type {\n",
       "        vertical-align: middle;\n",
       "    }\n",
       "\n",
       "    .dataframe tbody tr th {\n",
       "        vertical-align: top;\n",
       "    }\n",
       "\n",
       "    .dataframe thead th {\n",
       "        text-align: right;\n",
       "    }\n",
       "</style>\n",
       "<table border=\"1\" class=\"dataframe\">\n",
       "  <thead>\n",
       "    <tr style=\"text-align: right;\">\n",
       "      <th></th>\n",
       "      <th>Date</th>\n",
       "      <th>Open</th>\n",
       "      <th>High</th>\n",
       "      <th>Low</th>\n",
       "      <th>Close</th>\n",
       "      <th>Adj Close</th>\n",
       "      <th>Volume</th>\n",
       "    </tr>\n",
       "  </thead>\n",
       "  <tbody>\n",
       "    <tr>\n",
       "      <th>0</th>\n",
       "      <td>2018-02-05</td>\n",
       "      <td>262.000000</td>\n",
       "      <td>267.899994</td>\n",
       "      <td>250.029999</td>\n",
       "      <td>254.259995</td>\n",
       "      <td>254.259995</td>\n",
       "      <td>11896100</td>\n",
       "    </tr>\n",
       "    <tr>\n",
       "      <th>1</th>\n",
       "      <td>2018-02-06</td>\n",
       "      <td>247.699997</td>\n",
       "      <td>266.700012</td>\n",
       "      <td>245.000000</td>\n",
       "      <td>265.720001</td>\n",
       "      <td>265.720001</td>\n",
       "      <td>12595800</td>\n",
       "    </tr>\n",
       "    <tr>\n",
       "      <th>2</th>\n",
       "      <td>2018-02-07</td>\n",
       "      <td>266.579987</td>\n",
       "      <td>272.450012</td>\n",
       "      <td>264.329987</td>\n",
       "      <td>264.559998</td>\n",
       "      <td>264.559998</td>\n",
       "      <td>8981500</td>\n",
       "    </tr>\n",
       "    <tr>\n",
       "      <th>3</th>\n",
       "      <td>2018-02-08</td>\n",
       "      <td>267.079987</td>\n",
       "      <td>267.619995</td>\n",
       "      <td>250.000000</td>\n",
       "      <td>250.100006</td>\n",
       "      <td>250.100006</td>\n",
       "      <td>9306700</td>\n",
       "    </tr>\n",
       "    <tr>\n",
       "      <th>4</th>\n",
       "      <td>2018-02-09</td>\n",
       "      <td>253.850006</td>\n",
       "      <td>255.800003</td>\n",
       "      <td>236.110001</td>\n",
       "      <td>249.470001</td>\n",
       "      <td>249.470001</td>\n",
       "      <td>16906900</td>\n",
       "    </tr>\n",
       "  </tbody>\n",
       "</table>\n",
       "</div>"
      ],
      "text/plain": [
       "         Date        Open        High         Low       Close   Adj Close  \\\n",
       "0  2018-02-05  262.000000  267.899994  250.029999  254.259995  254.259995   \n",
       "1  2018-02-06  247.699997  266.700012  245.000000  265.720001  265.720001   \n",
       "2  2018-02-07  266.579987  272.450012  264.329987  264.559998  264.559998   \n",
       "3  2018-02-08  267.079987  267.619995  250.000000  250.100006  250.100006   \n",
       "4  2018-02-09  253.850006  255.800003  236.110001  249.470001  249.470001   \n",
       "\n",
       "     Volume  \n",
       "0  11896100  \n",
       "1  12595800  \n",
       "2   8981500  \n",
       "3   9306700  \n",
       "4  16906900  "
      ]
     },
     "execution_count": 270,
     "metadata": {},
     "output_type": "execute_result"
    }
   ],
   "source": [
    "gstock_data = pd.read_csv(\"C:\\\\Users\\\\laksh\\\\OneDrive\\\\Desktop\\\\NFLX.csv\")\n",
    "gstock_data .head()"
   ]
  },
  {
   "cell_type": "code",
   "execution_count": 271,
   "id": "08182bdf",
   "metadata": {},
   "outputs": [
    {
     "data": {
      "text/html": [
       "<div>\n",
       "<style scoped>\n",
       "    .dataframe tbody tr th:only-of-type {\n",
       "        vertical-align: middle;\n",
       "    }\n",
       "\n",
       "    .dataframe tbody tr th {\n",
       "        vertical-align: top;\n",
       "    }\n",
       "\n",
       "    .dataframe thead th {\n",
       "        text-align: right;\n",
       "    }\n",
       "</style>\n",
       "<table border=\"1\" class=\"dataframe\">\n",
       "  <thead>\n",
       "    <tr style=\"text-align: right;\">\n",
       "      <th></th>\n",
       "      <th>Date</th>\n",
       "      <th>Open</th>\n",
       "      <th>High</th>\n",
       "      <th>Low</th>\n",
       "      <th>Close</th>\n",
       "      <th>Adj Close</th>\n",
       "      <th>Volume</th>\n",
       "    </tr>\n",
       "  </thead>\n",
       "  <tbody>\n",
       "    <tr>\n",
       "      <th>0</th>\n",
       "      <td>2018-02-05</td>\n",
       "      <td>262.000000</td>\n",
       "      <td>267.899994</td>\n",
       "      <td>250.029999</td>\n",
       "      <td>254.259995</td>\n",
       "      <td>254.259995</td>\n",
       "      <td>11896100</td>\n",
       "    </tr>\n",
       "    <tr>\n",
       "      <th>1</th>\n",
       "      <td>2018-02-06</td>\n",
       "      <td>247.699997</td>\n",
       "      <td>266.700012</td>\n",
       "      <td>245.000000</td>\n",
       "      <td>265.720001</td>\n",
       "      <td>265.720001</td>\n",
       "      <td>12595800</td>\n",
       "    </tr>\n",
       "    <tr>\n",
       "      <th>2</th>\n",
       "      <td>2018-02-07</td>\n",
       "      <td>266.579987</td>\n",
       "      <td>272.450012</td>\n",
       "      <td>264.329987</td>\n",
       "      <td>264.559998</td>\n",
       "      <td>264.559998</td>\n",
       "      <td>8981500</td>\n",
       "    </tr>\n",
       "    <tr>\n",
       "      <th>3</th>\n",
       "      <td>2018-02-08</td>\n",
       "      <td>267.079987</td>\n",
       "      <td>267.619995</td>\n",
       "      <td>250.000000</td>\n",
       "      <td>250.100006</td>\n",
       "      <td>250.100006</td>\n",
       "      <td>9306700</td>\n",
       "    </tr>\n",
       "    <tr>\n",
       "      <th>4</th>\n",
       "      <td>2018-02-09</td>\n",
       "      <td>253.850006</td>\n",
       "      <td>255.800003</td>\n",
       "      <td>236.110001</td>\n",
       "      <td>249.470001</td>\n",
       "      <td>249.470001</td>\n",
       "      <td>16906900</td>\n",
       "    </tr>\n",
       "  </tbody>\n",
       "</table>\n",
       "</div>"
      ],
      "text/plain": [
       "         Date        Open        High         Low       Close   Adj Close  \\\n",
       "0  2018-02-05  262.000000  267.899994  250.029999  254.259995  254.259995   \n",
       "1  2018-02-06  247.699997  266.700012  245.000000  265.720001  265.720001   \n",
       "2  2018-02-07  266.579987  272.450012  264.329987  264.559998  264.559998   \n",
       "3  2018-02-08  267.079987  267.619995  250.000000  250.100006  250.100006   \n",
       "4  2018-02-09  253.850006  255.800003  236.110001  249.470001  249.470001   \n",
       "\n",
       "     Volume  \n",
       "0  11896100  \n",
       "1  12595800  \n",
       "2   8981500  \n",
       "3   9306700  \n",
       "4  16906900  "
      ]
     },
     "execution_count": 271,
     "metadata": {},
     "output_type": "execute_result"
    }
   ],
   "source": [
    " gstock_data.head()\n",
    " "
   ]
  },
  {
   "cell_type": "code",
   "execution_count": 272,
   "id": "240f45cc",
   "metadata": {},
   "outputs": [
    {
     "data": {
      "text/html": [
       "<div>\n",
       "<style scoped>\n",
       "    .dataframe tbody tr th:only-of-type {\n",
       "        vertical-align: middle;\n",
       "    }\n",
       "\n",
       "    .dataframe tbody tr th {\n",
       "        vertical-align: top;\n",
       "    }\n",
       "\n",
       "    .dataframe thead th {\n",
       "        text-align: right;\n",
       "    }\n",
       "</style>\n",
       "<table border=\"1\" class=\"dataframe\">\n",
       "  <thead>\n",
       "    <tr style=\"text-align: right;\">\n",
       "      <th></th>\n",
       "      <th>Open</th>\n",
       "      <th>High</th>\n",
       "      <th>Low</th>\n",
       "      <th>Close</th>\n",
       "      <th>Adj Close</th>\n",
       "      <th>Volume</th>\n",
       "    </tr>\n",
       "  </thead>\n",
       "  <tbody>\n",
       "    <tr>\n",
       "      <th>count</th>\n",
       "      <td>1009.000000</td>\n",
       "      <td>1009.000000</td>\n",
       "      <td>1009.000000</td>\n",
       "      <td>1009.000000</td>\n",
       "      <td>1009.000000</td>\n",
       "      <td>1.009000e+03</td>\n",
       "    </tr>\n",
       "    <tr>\n",
       "      <th>mean</th>\n",
       "      <td>419.059673</td>\n",
       "      <td>425.320703</td>\n",
       "      <td>412.374044</td>\n",
       "      <td>419.000733</td>\n",
       "      <td>419.000733</td>\n",
       "      <td>7.570685e+06</td>\n",
       "    </tr>\n",
       "    <tr>\n",
       "      <th>std</th>\n",
       "      <td>108.537532</td>\n",
       "      <td>109.262960</td>\n",
       "      <td>107.555867</td>\n",
       "      <td>108.289999</td>\n",
       "      <td>108.289999</td>\n",
       "      <td>5.465535e+06</td>\n",
       "    </tr>\n",
       "    <tr>\n",
       "      <th>min</th>\n",
       "      <td>233.919998</td>\n",
       "      <td>250.649994</td>\n",
       "      <td>231.229996</td>\n",
       "      <td>233.880005</td>\n",
       "      <td>233.880005</td>\n",
       "      <td>1.144000e+06</td>\n",
       "    </tr>\n",
       "    <tr>\n",
       "      <th>25%</th>\n",
       "      <td>331.489990</td>\n",
       "      <td>336.299988</td>\n",
       "      <td>326.000000</td>\n",
       "      <td>331.619995</td>\n",
       "      <td>331.619995</td>\n",
       "      <td>4.091900e+06</td>\n",
       "    </tr>\n",
       "    <tr>\n",
       "      <th>50%</th>\n",
       "      <td>377.769989</td>\n",
       "      <td>383.010010</td>\n",
       "      <td>370.880005</td>\n",
       "      <td>378.670013</td>\n",
       "      <td>378.670013</td>\n",
       "      <td>5.934500e+06</td>\n",
       "    </tr>\n",
       "    <tr>\n",
       "      <th>75%</th>\n",
       "      <td>509.130005</td>\n",
       "      <td>515.630005</td>\n",
       "      <td>502.529999</td>\n",
       "      <td>509.079987</td>\n",
       "      <td>509.079987</td>\n",
       "      <td>9.322400e+06</td>\n",
       "    </tr>\n",
       "    <tr>\n",
       "      <th>max</th>\n",
       "      <td>692.349976</td>\n",
       "      <td>700.989990</td>\n",
       "      <td>686.090027</td>\n",
       "      <td>691.690002</td>\n",
       "      <td>691.690002</td>\n",
       "      <td>5.890430e+07</td>\n",
       "    </tr>\n",
       "  </tbody>\n",
       "</table>\n",
       "</div>"
      ],
      "text/plain": [
       "              Open         High          Low        Close    Adj Close  \\\n",
       "count  1009.000000  1009.000000  1009.000000  1009.000000  1009.000000   \n",
       "mean    419.059673   425.320703   412.374044   419.000733   419.000733   \n",
       "std     108.537532   109.262960   107.555867   108.289999   108.289999   \n",
       "min     233.919998   250.649994   231.229996   233.880005   233.880005   \n",
       "25%     331.489990   336.299988   326.000000   331.619995   331.619995   \n",
       "50%     377.769989   383.010010   370.880005   378.670013   378.670013   \n",
       "75%     509.130005   515.630005   502.529999   509.079987   509.079987   \n",
       "max     692.349976   700.989990   686.090027   691.690002   691.690002   \n",
       "\n",
       "             Volume  \n",
       "count  1.009000e+03  \n",
       "mean   7.570685e+06  \n",
       "std    5.465535e+06  \n",
       "min    1.144000e+06  \n",
       "25%    4.091900e+06  \n",
       "50%    5.934500e+06  \n",
       "75%    9.322400e+06  \n",
       "max    5.890430e+07  "
      ]
     },
     "execution_count": 272,
     "metadata": {},
     "output_type": "execute_result"
    }
   ],
   "source": [
    " gstock_data.describe()\n",
    "\n"
   ]
  },
  {
   "cell_type": "code",
   "execution_count": 273,
   "id": "5326fd89",
   "metadata": {},
   "outputs": [],
   "source": [
    "import matplotlib.pyplot as plt\n",
    "import seaborn as sns"
   ]
  },
  {
   "cell_type": "code",
   "execution_count": 274,
   "id": "e09bcec1",
   "metadata": {},
   "outputs": [
    {
     "data": {
      "text/html": [
       "<style type=\"text/css\">\n",
       "#T_6f8db_row0_col1 {\n",
       "  background-color: #3f3fa6;\n",
       "  color: #f1f1f1;\n",
       "}\n",
       "#T_6f8db_row0_col2 {\n",
       "  background-color: #4141a7;\n",
       "  color: #f1f1f1;\n",
       "}\n",
       "#T_6f8db_row0_col3, #T_6f8db_row3_col3 {\n",
       "  background-color: #7a7abf;\n",
       "  color: #f1f1f1;\n",
       "}\n",
       "#T_6f8db_row0_col4, #T_6f8db_row0_col5 {\n",
       "  background-color: #aaaad4;\n",
       "  color: #000000;\n",
       "}\n",
       "#T_6f8db_row0_col6 {\n",
       "  background-color: #9898cd;\n",
       "  color: #f1f1f1;\n",
       "}\n",
       "#T_6f8db_row1_col1, #T_6f8db_row2_col6, #T_6f8db_row4_col2, #T_6f8db_row4_col3, #T_6f8db_row4_col4, #T_6f8db_row4_col5 {\n",
       "  background-color: #f0f0f3;\n",
       "  color: #000000;\n",
       "}\n",
       "#T_6f8db_row1_col2 {\n",
       "  background-color: #5353af;\n",
       "  color: #f1f1f1;\n",
       "}\n",
       "#T_6f8db_row1_col3 {\n",
       "  background-color: #a5a5d2;\n",
       "  color: #f1f1f1;\n",
       "}\n",
       "#T_6f8db_row1_col4, #T_6f8db_row1_col5, #T_6f8db_row2_col2, #T_6f8db_row2_col3, #T_6f8db_row3_col1, #T_6f8db_row4_col6 {\n",
       "  background-color: #00008b;\n",
       "  color: #f1f1f1;\n",
       "}\n",
       "#T_6f8db_row1_col6 {\n",
       "  background-color: #8383c4;\n",
       "  color: #f1f1f1;\n",
       "}\n",
       "#T_6f8db_row2_col1 {\n",
       "  background-color: #06068d;\n",
       "  color: #f1f1f1;\n",
       "}\n",
       "#T_6f8db_row2_col4, #T_6f8db_row2_col5 {\n",
       "  background-color: #111192;\n",
       "  color: #f1f1f1;\n",
       "}\n",
       "#T_6f8db_row3_col2 {\n",
       "  background-color: #4646a9;\n",
       "  color: #f1f1f1;\n",
       "}\n",
       "#T_6f8db_row3_col4, #T_6f8db_row3_col5 {\n",
       "  background-color: #e8e8ef;\n",
       "  color: #000000;\n",
       "}\n",
       "#T_6f8db_row3_col6 {\n",
       "  background-color: #e7e7ef;\n",
       "  color: #000000;\n",
       "}\n",
       "#T_6f8db_row4_col1 {\n",
       "  background-color: #a4a4d2;\n",
       "  color: #f1f1f1;\n",
       "}\n",
       "</style>\n",
       "<table id=\"T_6f8db\">\n",
       "  <thead>\n",
       "    <tr>\n",
       "      <th class=\"blank level0\" >&nbsp;</th>\n",
       "      <th id=\"T_6f8db_level0_col0\" class=\"col_heading level0 col0\" >Date</th>\n",
       "      <th id=\"T_6f8db_level0_col1\" class=\"col_heading level0 col1\" >Open</th>\n",
       "      <th id=\"T_6f8db_level0_col2\" class=\"col_heading level0 col2\" >High</th>\n",
       "      <th id=\"T_6f8db_level0_col3\" class=\"col_heading level0 col3\" >Low</th>\n",
       "      <th id=\"T_6f8db_level0_col4\" class=\"col_heading level0 col4\" >Close</th>\n",
       "      <th id=\"T_6f8db_level0_col5\" class=\"col_heading level0 col5\" >Adj Close</th>\n",
       "      <th id=\"T_6f8db_level0_col6\" class=\"col_heading level0 col6\" >Volume</th>\n",
       "    </tr>\n",
       "  </thead>\n",
       "  <tbody>\n",
       "    <tr>\n",
       "      <th id=\"T_6f8db_level0_row0\" class=\"row_heading level0 row0\" >0</th>\n",
       "      <td id=\"T_6f8db_row0_col0\" class=\"data row0 col0\" >2018-02-05</td>\n",
       "      <td id=\"T_6f8db_row0_col1\" class=\"data row0 col1\" >262.000000</td>\n",
       "      <td id=\"T_6f8db_row0_col2\" class=\"data row0 col2\" >267.899994</td>\n",
       "      <td id=\"T_6f8db_row0_col3\" class=\"data row0 col3\" >250.029999</td>\n",
       "      <td id=\"T_6f8db_row0_col4\" class=\"data row0 col4\" >254.259995</td>\n",
       "      <td id=\"T_6f8db_row0_col5\" class=\"data row0 col5\" >254.259995</td>\n",
       "      <td id=\"T_6f8db_row0_col6\" class=\"data row0 col6\" >11896100</td>\n",
       "    </tr>\n",
       "    <tr>\n",
       "      <th id=\"T_6f8db_level0_row1\" class=\"row_heading level0 row1\" >1</th>\n",
       "      <td id=\"T_6f8db_row1_col0\" class=\"data row1 col0\" >2018-02-06</td>\n",
       "      <td id=\"T_6f8db_row1_col1\" class=\"data row1 col1\" >247.699997</td>\n",
       "      <td id=\"T_6f8db_row1_col2\" class=\"data row1 col2\" >266.700012</td>\n",
       "      <td id=\"T_6f8db_row1_col3\" class=\"data row1 col3\" >245.000000</td>\n",
       "      <td id=\"T_6f8db_row1_col4\" class=\"data row1 col4\" >265.720001</td>\n",
       "      <td id=\"T_6f8db_row1_col5\" class=\"data row1 col5\" >265.720001</td>\n",
       "      <td id=\"T_6f8db_row1_col6\" class=\"data row1 col6\" >12595800</td>\n",
       "    </tr>\n",
       "    <tr>\n",
       "      <th id=\"T_6f8db_level0_row2\" class=\"row_heading level0 row2\" >2</th>\n",
       "      <td id=\"T_6f8db_row2_col0\" class=\"data row2 col0\" >2018-02-07</td>\n",
       "      <td id=\"T_6f8db_row2_col1\" class=\"data row2 col1\" >266.579987</td>\n",
       "      <td id=\"T_6f8db_row2_col2\" class=\"data row2 col2\" >272.450012</td>\n",
       "      <td id=\"T_6f8db_row2_col3\" class=\"data row2 col3\" >264.329987</td>\n",
       "      <td id=\"T_6f8db_row2_col4\" class=\"data row2 col4\" >264.559998</td>\n",
       "      <td id=\"T_6f8db_row2_col5\" class=\"data row2 col5\" >264.559998</td>\n",
       "      <td id=\"T_6f8db_row2_col6\" class=\"data row2 col6\" >8981500</td>\n",
       "    </tr>\n",
       "    <tr>\n",
       "      <th id=\"T_6f8db_level0_row3\" class=\"row_heading level0 row3\" >3</th>\n",
       "      <td id=\"T_6f8db_row3_col0\" class=\"data row3 col0\" >2018-02-08</td>\n",
       "      <td id=\"T_6f8db_row3_col1\" class=\"data row3 col1\" >267.079987</td>\n",
       "      <td id=\"T_6f8db_row3_col2\" class=\"data row3 col2\" >267.619995</td>\n",
       "      <td id=\"T_6f8db_row3_col3\" class=\"data row3 col3\" >250.000000</td>\n",
       "      <td id=\"T_6f8db_row3_col4\" class=\"data row3 col4\" >250.100006</td>\n",
       "      <td id=\"T_6f8db_row3_col5\" class=\"data row3 col5\" >250.100006</td>\n",
       "      <td id=\"T_6f8db_row3_col6\" class=\"data row3 col6\" >9306700</td>\n",
       "    </tr>\n",
       "    <tr>\n",
       "      <th id=\"T_6f8db_level0_row4\" class=\"row_heading level0 row4\" >4</th>\n",
       "      <td id=\"T_6f8db_row4_col0\" class=\"data row4 col0\" >2018-02-09</td>\n",
       "      <td id=\"T_6f8db_row4_col1\" class=\"data row4 col1\" >253.850006</td>\n",
       "      <td id=\"T_6f8db_row4_col2\" class=\"data row4 col2\" >255.800003</td>\n",
       "      <td id=\"T_6f8db_row4_col3\" class=\"data row4 col3\" >236.110001</td>\n",
       "      <td id=\"T_6f8db_row4_col4\" class=\"data row4 col4\" >249.470001</td>\n",
       "      <td id=\"T_6f8db_row4_col5\" class=\"data row4 col5\" >249.470001</td>\n",
       "      <td id=\"T_6f8db_row4_col6\" class=\"data row4 col6\" >16906900</td>\n",
       "    </tr>\n",
       "  </tbody>\n",
       "</table>\n"
      ],
      "text/plain": [
       "<pandas.io.formats.style.Styler at 0x1d019742290>"
      ]
     },
     "execution_count": 274,
     "metadata": {},
     "output_type": "execute_result"
    }
   ],
   "source": [
    "cm = sns.light_palette(\"Darkblue\",  as_cmap=True)\n",
    "gstock_data.head(5).style.background_gradient(cmap=cm)"
   ]
  },
  {
   "cell_type": "code",
   "execution_count": 275,
   "id": "1c12627d",
   "metadata": {},
   "outputs": [],
   "source": [
    "gstock_data = gstock_data [['Date','Open','Close']] "
   ]
  },
  {
   "cell_type": "code",
   "execution_count": 276,
   "id": "3e0b87e3",
   "metadata": {},
   "outputs": [
    {
     "data": {
      "text/html": [
       "<div>\n",
       "<style scoped>\n",
       "    .dataframe tbody tr th:only-of-type {\n",
       "        vertical-align: middle;\n",
       "    }\n",
       "\n",
       "    .dataframe tbody tr th {\n",
       "        vertical-align: top;\n",
       "    }\n",
       "\n",
       "    .dataframe thead th {\n",
       "        text-align: right;\n",
       "    }\n",
       "</style>\n",
       "<table border=\"1\" class=\"dataframe\">\n",
       "  <thead>\n",
       "    <tr style=\"text-align: right;\">\n",
       "      <th></th>\n",
       "      <th>Date</th>\n",
       "      <th>Open</th>\n",
       "      <th>Close</th>\n",
       "    </tr>\n",
       "  </thead>\n",
       "  <tbody>\n",
       "    <tr>\n",
       "      <th>0</th>\n",
       "      <td>2018-02-05</td>\n",
       "      <td>262.000000</td>\n",
       "      <td>254.259995</td>\n",
       "    </tr>\n",
       "    <tr>\n",
       "      <th>1</th>\n",
       "      <td>2018-02-06</td>\n",
       "      <td>247.699997</td>\n",
       "      <td>265.720001</td>\n",
       "    </tr>\n",
       "    <tr>\n",
       "      <th>2</th>\n",
       "      <td>2018-02-07</td>\n",
       "      <td>266.579987</td>\n",
       "      <td>264.559998</td>\n",
       "    </tr>\n",
       "    <tr>\n",
       "      <th>3</th>\n",
       "      <td>2018-02-08</td>\n",
       "      <td>267.079987</td>\n",
       "      <td>250.100006</td>\n",
       "    </tr>\n",
       "    <tr>\n",
       "      <th>4</th>\n",
       "      <td>2018-02-09</td>\n",
       "      <td>253.850006</td>\n",
       "      <td>249.470001</td>\n",
       "    </tr>\n",
       "    <tr>\n",
       "      <th>...</th>\n",
       "      <td>...</td>\n",
       "      <td>...</td>\n",
       "      <td>...</td>\n",
       "    </tr>\n",
       "    <tr>\n",
       "      <th>1004</th>\n",
       "      <td>2022-01-31</td>\n",
       "      <td>401.970001</td>\n",
       "      <td>427.140015</td>\n",
       "    </tr>\n",
       "    <tr>\n",
       "      <th>1005</th>\n",
       "      <td>2022-02-01</td>\n",
       "      <td>432.959991</td>\n",
       "      <td>457.130005</td>\n",
       "    </tr>\n",
       "    <tr>\n",
       "      <th>1006</th>\n",
       "      <td>2022-02-02</td>\n",
       "      <td>448.250000</td>\n",
       "      <td>429.480011</td>\n",
       "    </tr>\n",
       "    <tr>\n",
       "      <th>1007</th>\n",
       "      <td>2022-02-03</td>\n",
       "      <td>421.440002</td>\n",
       "      <td>405.600006</td>\n",
       "    </tr>\n",
       "    <tr>\n",
       "      <th>1008</th>\n",
       "      <td>2022-02-04</td>\n",
       "      <td>407.309998</td>\n",
       "      <td>410.170013</td>\n",
       "    </tr>\n",
       "  </tbody>\n",
       "</table>\n",
       "<p>1009 rows × 3 columns</p>\n",
       "</div>"
      ],
      "text/plain": [
       "            Date        Open       Close\n",
       "0     2018-02-05  262.000000  254.259995\n",
       "1     2018-02-06  247.699997  265.720001\n",
       "2     2018-02-07  266.579987  264.559998\n",
       "3     2018-02-08  267.079987  250.100006\n",
       "4     2018-02-09  253.850006  249.470001\n",
       "...          ...         ...         ...\n",
       "1004  2022-01-31  401.970001  427.140015\n",
       "1005  2022-02-01  432.959991  457.130005\n",
       "1006  2022-02-02  448.250000  429.480011\n",
       "1007  2022-02-03  421.440002  405.600006\n",
       "1008  2022-02-04  407.309998  410.170013\n",
       "\n",
       "[1009 rows x 3 columns]"
      ]
     },
     "execution_count": 276,
     "metadata": {},
     "output_type": "execute_result"
    }
   ],
   "source": [
    "gstock_data "
   ]
  },
  {
   "cell_type": "code",
   "execution_count": 277,
   "id": "e8c454e0",
   "metadata": {},
   "outputs": [
    {
     "data": {
      "image/png": "[encoded data removed]",
      "text/plain": [
       "<Figure size 1200x600 with 1 Axes>"
      ]
     },
     "metadata": {},
     "output_type": "display_data"
    }
   ],
   "source": [
    "# Create bar chart of daily stock prices\n",
    "plt.figure(figsize=(12, 6))\n",
    "plt.bar(gstock_data['Date'], gstock_data['Close'])\n",
    "plt.xlabel('Date')\n",
    "plt.ylabel('Closing Price')\n",
    "plt.title('Netflix Stock Prices')\n",
    "plt.show()\n"
   ]
  },
  {
   "cell_type": "code",
   "execution_count": 278,
   "id": "3b08bfc6",
   "metadata": {},
   "outputs": [
    {
     "data": {
      "image/png": "[encoded data removed]",
      "text/plain": [
       "<Figure size 600x600 with 1 Axes>"
      ]
     },
     "metadata": {},
     "output_type": "display_data"
    }
   ],
   "source": [
    "# Create pie chart of daily stock prices\n",
    "plt.figure(figsize=(6, 6))\n",
    "labels = ['Open', 'Close']\n",
    "sizes = [gstock_data['Open'].mean(), gstock_data['Close'].mean()]\n",
    "plt.pie(sizes, labels=labels, autopct='%1.1f%%')\n",
    "plt.title('Average Netflix Stock Prices')\n",
    "plt.show()\n"
   ]
  },
  {
   "cell_type": "code",
   "execution_count": 279,
   "id": "05c9262e",
   "metadata": {},
   "outputs": [
    {
     "data": {
      "image/png": "[encoded data removed]",
      "text/plain": [
       "<Figure size 1200x600 with 1 Axes>"
      ]
     },
     "metadata": {},
     "output_type": "display_data"
    }
   ],
   "source": [
    "# Create column chart of daily stock prices\n",
    "plt.figure(figsize=(12, 6))\n",
    "x = gstock_data['Date']\n",
    "y1 = gstock_data['Open']\n",
    "y2 = gstock_data['Close']\n",
    "plt.bar(x, y1, color='blue', alpha=0.5)\n",
    "plt.bar(x, y2, color='red', alpha=0.5)\n",
    "plt.xlabel('Date')\n",
    "plt.ylabel('Stock Price')\n",
    "plt.title(' Netflix Stock Prices')\n",
    "plt.legend(['Open', 'Close'])\n",
    "plt.show()"
   ]
  },
  {
   "cell_type": "code",
   "execution_count": 280,
   "id": "1543303d",
   "metadata": {},
   "outputs": [],
   "source": [
    "# Pre Process"
   ]
  },
  {
   "cell_type": "code",
   "execution_count": 281,
   "id": "710bd5a1",
   "metadata": {},
   "outputs": [],
   "source": [
    "scaler = MinMaxScaler(feature_range=(0, 1))\n",
    "gstock_data['Scaled Close'] = scaler.fit_transform(gstock_data['Close'].values.reshape(-1, 1))\n"
   ]
  },
  {
   "cell_type": "code",
   "execution_count": 282,
   "id": "1b909f1b",
   "metadata": {},
   "outputs": [
    {
     "data": {
      "text/html": [
       "<div>\n",
       "<style scoped>\n",
       "    .dataframe tbody tr th:only-of-type {\n",
       "        vertical-align: middle;\n",
       "    }\n",
       "\n",
       "    .dataframe tbody tr th {\n",
       "        vertical-align: top;\n",
       "    }\n",
       "\n",
       "    .dataframe thead th {\n",
       "        text-align: right;\n",
       "    }\n",
       "</style>\n",
       "<table border=\"1\" class=\"dataframe\">\n",
       "  <thead>\n",
       "    <tr style=\"text-align: right;\">\n",
       "      <th></th>\n",
       "      <th>Date</th>\n",
       "      <th>Open</th>\n",
       "      <th>Close</th>\n",
       "      <th>Scaled Close</th>\n",
       "    </tr>\n",
       "  </thead>\n",
       "  <tbody>\n",
       "    <tr>\n",
       "      <th>0</th>\n",
       "      <td>2018-02-05</td>\n",
       "      <td>262.000000</td>\n",
       "      <td>254.259995</td>\n",
       "      <td>0.044516</td>\n",
       "    </tr>\n",
       "    <tr>\n",
       "      <th>1</th>\n",
       "      <td>2018-02-06</td>\n",
       "      <td>247.699997</td>\n",
       "      <td>265.720001</td>\n",
       "      <td>0.069548</td>\n",
       "    </tr>\n",
       "    <tr>\n",
       "      <th>2</th>\n",
       "      <td>2018-02-07</td>\n",
       "      <td>266.579987</td>\n",
       "      <td>264.559998</td>\n",
       "      <td>0.067015</td>\n",
       "    </tr>\n",
       "    <tr>\n",
       "      <th>3</th>\n",
       "      <td>2018-02-08</td>\n",
       "      <td>267.079987</td>\n",
       "      <td>250.100006</td>\n",
       "      <td>0.035430</td>\n",
       "    </tr>\n",
       "    <tr>\n",
       "      <th>4</th>\n",
       "      <td>2018-02-09</td>\n",
       "      <td>253.850006</td>\n",
       "      <td>249.470001</td>\n",
       "      <td>0.034053</td>\n",
       "    </tr>\n",
       "    <tr>\n",
       "      <th>...</th>\n",
       "      <td>...</td>\n",
       "      <td>...</td>\n",
       "      <td>...</td>\n",
       "      <td>...</td>\n",
       "    </tr>\n",
       "    <tr>\n",
       "      <th>1004</th>\n",
       "      <td>2022-01-31</td>\n",
       "      <td>401.970001</td>\n",
       "      <td>427.140015</td>\n",
       "      <td>0.422140</td>\n",
       "    </tr>\n",
       "    <tr>\n",
       "      <th>1005</th>\n",
       "      <td>2022-02-01</td>\n",
       "      <td>432.959991</td>\n",
       "      <td>457.130005</td>\n",
       "      <td>0.487648</td>\n",
       "    </tr>\n",
       "    <tr>\n",
       "      <th>1006</th>\n",
       "      <td>2022-02-02</td>\n",
       "      <td>448.250000</td>\n",
       "      <td>429.480011</td>\n",
       "      <td>0.427251</td>\n",
       "    </tr>\n",
       "    <tr>\n",
       "      <th>1007</th>\n",
       "      <td>2022-02-03</td>\n",
       "      <td>421.440002</td>\n",
       "      <td>405.600006</td>\n",
       "      <td>0.375090</td>\n",
       "    </tr>\n",
       "    <tr>\n",
       "      <th>1008</th>\n",
       "      <td>2022-02-04</td>\n",
       "      <td>407.309998</td>\n",
       "      <td>410.170013</td>\n",
       "      <td>0.385072</td>\n",
       "    </tr>\n",
       "  </tbody>\n",
       "</table>\n",
       "<p>1009 rows × 4 columns</p>\n",
       "</div>"
      ],
      "text/plain": [
       "            Date        Open       Close  Scaled Close\n",
       "0     2018-02-05  262.000000  254.259995      0.044516\n",
       "1     2018-02-06  247.699997  265.720001      0.069548\n",
       "2     2018-02-07  266.579987  264.559998      0.067015\n",
       "3     2018-02-08  267.079987  250.100006      0.035430\n",
       "4     2018-02-09  253.850006  249.470001      0.034053\n",
       "...          ...         ...         ...           ...\n",
       "1004  2022-01-31  401.970001  427.140015      0.422140\n",
       "1005  2022-02-01  432.959991  457.130005      0.487648\n",
       "1006  2022-02-02  448.250000  429.480011      0.427251\n",
       "1007  2022-02-03  421.440002  405.600006      0.375090\n",
       "1008  2022-02-04  407.309998  410.170013      0.385072\n",
       "\n",
       "[1009 rows x 4 columns]"
      ]
     },
     "execution_count": 282,
     "metadata": {},
     "output_type": "execute_result"
    }
   ],
   "source": [
    "gstock_data"
   ]
  },
  {
   "cell_type": "code",
   "execution_count": 283,
   "id": "6fc2af8f",
   "metadata": {},
   "outputs": [
    {
     "data": {
      "image/png": "[encoded data removed]",
      "text/plain": [
       "<Figure size 1200x600 with 1 Axes>"
      ]
     },
     "metadata": {},
     "output_type": "display_data"
    }
   ],
   "source": [
    "# Create ribbon chart of daily stock prices\n",
    "plt.figure(figsize=(12, 6))\n",
    "x = gstock_data['Date']\n",
    "y = gstock_data['Close']\n",
    "plt.fill_between(x, y, color='blue', alpha=0.2)\n",
    "plt.plot(x, y, color='blue', alpha=0.6)\n",
    "plt.xlabel('Date')\n",
    "plt.ylabel('Scaled Closing Price')\n",
    "plt.title('Netflix Stock Prices')\n",
    "plt.show()"
   ]
  },
  {
   "cell_type": "code",
   "execution_count": 284,
   "id": "002cb1db",
   "metadata": {},
   "outputs": [],
   "source": [
    "# Split data into training and testing sets"
   ]
  },
  {
   "cell_type": "code",
   "execution_count": 285,
   "id": "bf17b336",
   "metadata": {},
   "outputs": [],
   "source": [
    "train_size = int(len(gstock_data) * 0.8)\n",
    "train_data = gstock_data.iloc[:train_size, :]\n",
    "test_data = gstock_data.iloc[train_size:, :]"
   ]
  },
  {
   "cell_type": "code",
   "execution_count": 286,
   "id": "5ed6e2d7",
   "metadata": {},
   "outputs": [
    {
     "data": {
      "text/plain": [
       "807"
      ]
     },
     "execution_count": 286,
     "metadata": {},
     "output_type": "execute_result"
    }
   ],
   "source": [
    "train_size\n"
   ]
  },
  {
   "cell_type": "code",
   "execution_count": 287,
   "id": "03963814",
   "metadata": {},
   "outputs": [
    {
     "data": {
      "text/html": [
       "<div>\n",
       "<style scoped>\n",
       "    .dataframe tbody tr th:only-of-type {\n",
       "        vertical-align: middle;\n",
       "    }\n",
       "\n",
       "    .dataframe tbody tr th {\n",
       "        vertical-align: top;\n",
       "    }\n",
       "\n",
       "    .dataframe thead th {\n",
       "        text-align: right;\n",
       "    }\n",
       "</style>\n",
       "<table border=\"1\" class=\"dataframe\">\n",
       "  <thead>\n",
       "    <tr style=\"text-align: right;\">\n",
       "      <th></th>\n",
       "      <th>Date</th>\n",
       "      <th>Open</th>\n",
       "      <th>Close</th>\n",
       "      <th>Scaled Close</th>\n",
       "    </tr>\n",
       "  </thead>\n",
       "  <tbody>\n",
       "    <tr>\n",
       "      <th>0</th>\n",
       "      <td>2018-02-05</td>\n",
       "      <td>262.000000</td>\n",
       "      <td>254.259995</td>\n",
       "      <td>0.044516</td>\n",
       "    </tr>\n",
       "    <tr>\n",
       "      <th>1</th>\n",
       "      <td>2018-02-06</td>\n",
       "      <td>247.699997</td>\n",
       "      <td>265.720001</td>\n",
       "      <td>0.069548</td>\n",
       "    </tr>\n",
       "    <tr>\n",
       "      <th>2</th>\n",
       "      <td>2018-02-07</td>\n",
       "      <td>266.579987</td>\n",
       "      <td>264.559998</td>\n",
       "      <td>0.067015</td>\n",
       "    </tr>\n",
       "    <tr>\n",
       "      <th>3</th>\n",
       "      <td>2018-02-08</td>\n",
       "      <td>267.079987</td>\n",
       "      <td>250.100006</td>\n",
       "      <td>0.035430</td>\n",
       "    </tr>\n",
       "    <tr>\n",
       "      <th>4</th>\n",
       "      <td>2018-02-09</td>\n",
       "      <td>253.850006</td>\n",
       "      <td>249.470001</td>\n",
       "      <td>0.034053</td>\n",
       "    </tr>\n",
       "    <tr>\n",
       "      <th>...</th>\n",
       "      <td>...</td>\n",
       "      <td>...</td>\n",
       "      <td>...</td>\n",
       "      <td>...</td>\n",
       "    </tr>\n",
       "    <tr>\n",
       "      <th>802</th>\n",
       "      <td>2021-04-14</td>\n",
       "      <td>554.869995</td>\n",
       "      <td>540.020020</td>\n",
       "      <td>0.668705</td>\n",
       "    </tr>\n",
       "    <tr>\n",
       "      <th>803</th>\n",
       "      <td>2021-04-15</td>\n",
       "      <td>544.169983</td>\n",
       "      <td>549.219971</td>\n",
       "      <td>0.688801</td>\n",
       "    </tr>\n",
       "    <tr>\n",
       "      <th>804</th>\n",
       "      <td>2021-04-16</td>\n",
       "      <td>550.539978</td>\n",
       "      <td>546.539978</td>\n",
       "      <td>0.682947</td>\n",
       "    </tr>\n",
       "    <tr>\n",
       "      <th>805</th>\n",
       "      <td>2021-04-19</td>\n",
       "      <td>546.900024</td>\n",
       "      <td>554.440002</td>\n",
       "      <td>0.700203</td>\n",
       "    </tr>\n",
       "    <tr>\n",
       "      <th>806</th>\n",
       "      <td>2021-04-20</td>\n",
       "      <td>554.419983</td>\n",
       "      <td>549.570007</td>\n",
       "      <td>0.689566</td>\n",
       "    </tr>\n",
       "  </tbody>\n",
       "</table>\n",
       "<p>807 rows × 4 columns</p>\n",
       "</div>"
      ],
      "text/plain": [
       "           Date        Open       Close  Scaled Close\n",
       "0    2018-02-05  262.000000  254.259995      0.044516\n",
       "1    2018-02-06  247.699997  265.720001      0.069548\n",
       "2    2018-02-07  266.579987  264.559998      0.067015\n",
       "3    2018-02-08  267.079987  250.100006      0.035430\n",
       "4    2018-02-09  253.850006  249.470001      0.034053\n",
       "..          ...         ...         ...           ...\n",
       "802  2021-04-14  554.869995  540.020020      0.668705\n",
       "803  2021-04-15  544.169983  549.219971      0.688801\n",
       "804  2021-04-16  550.539978  546.539978      0.682947\n",
       "805  2021-04-19  546.900024  554.440002      0.700203\n",
       "806  2021-04-20  554.419983  549.570007      0.689566\n",
       "\n",
       "[807 rows x 4 columns]"
      ]
     },
     "execution_count": 287,
     "metadata": {},
     "output_type": "execute_result"
    }
   ],
   "source": [
    "train_data"
   ]
  },
  {
   "cell_type": "code",
   "execution_count": 288,
   "id": "1bc785ac",
   "metadata": {},
   "outputs": [
    {
     "data": {
      "text/html": [
       "<div>\n",
       "<style scoped>\n",
       "    .dataframe tbody tr th:only-of-type {\n",
       "        vertical-align: middle;\n",
       "    }\n",
       "\n",
       "    .dataframe tbody tr th {\n",
       "        vertical-align: top;\n",
       "    }\n",
       "\n",
       "    .dataframe thead th {\n",
       "        text-align: right;\n",
       "    }\n",
       "</style>\n",
       "<table border=\"1\" class=\"dataframe\">\n",
       "  <thead>\n",
       "    <tr style=\"text-align: right;\">\n",
       "      <th></th>\n",
       "      <th>Date</th>\n",
       "      <th>Open</th>\n",
       "      <th>Close</th>\n",
       "      <th>Scaled Close</th>\n",
       "    </tr>\n",
       "  </thead>\n",
       "  <tbody>\n",
       "    <tr>\n",
       "      <th>807</th>\n",
       "      <td>2021-04-21</td>\n",
       "      <td>508.000000</td>\n",
       "      <td>508.899994</td>\n",
       "      <td>0.600730</td>\n",
       "    </tr>\n",
       "    <tr>\n",
       "      <th>808</th>\n",
       "      <td>2021-04-22</td>\n",
       "      <td>513.820007</td>\n",
       "      <td>508.779999</td>\n",
       "      <td>0.600467</td>\n",
       "    </tr>\n",
       "    <tr>\n",
       "      <th>809</th>\n",
       "      <td>2021-04-23</td>\n",
       "      <td>509.010010</td>\n",
       "      <td>505.549988</td>\n",
       "      <td>0.593412</td>\n",
       "    </tr>\n",
       "    <tr>\n",
       "      <th>810</th>\n",
       "      <td>2021-04-26</td>\n",
       "      <td>506.760010</td>\n",
       "      <td>510.299988</td>\n",
       "      <td>0.603788</td>\n",
       "    </tr>\n",
       "    <tr>\n",
       "      <th>811</th>\n",
       "      <td>2021-04-27</td>\n",
       "      <td>512.619995</td>\n",
       "      <td>505.549988</td>\n",
       "      <td>0.593412</td>\n",
       "    </tr>\n",
       "    <tr>\n",
       "      <th>...</th>\n",
       "      <td>...</td>\n",
       "      <td>...</td>\n",
       "      <td>...</td>\n",
       "      <td>...</td>\n",
       "    </tr>\n",
       "    <tr>\n",
       "      <th>1004</th>\n",
       "      <td>2022-01-31</td>\n",
       "      <td>401.970001</td>\n",
       "      <td>427.140015</td>\n",
       "      <td>0.422140</td>\n",
       "    </tr>\n",
       "    <tr>\n",
       "      <th>1005</th>\n",
       "      <td>2022-02-01</td>\n",
       "      <td>432.959991</td>\n",
       "      <td>457.130005</td>\n",
       "      <td>0.487648</td>\n",
       "    </tr>\n",
       "    <tr>\n",
       "      <th>1006</th>\n",
       "      <td>2022-02-02</td>\n",
       "      <td>448.250000</td>\n",
       "      <td>429.480011</td>\n",
       "      <td>0.427251</td>\n",
       "    </tr>\n",
       "    <tr>\n",
       "      <th>1007</th>\n",
       "      <td>2022-02-03</td>\n",
       "      <td>421.440002</td>\n",
       "      <td>405.600006</td>\n",
       "      <td>0.375090</td>\n",
       "    </tr>\n",
       "    <tr>\n",
       "      <th>1008</th>\n",
       "      <td>2022-02-04</td>\n",
       "      <td>407.309998</td>\n",
       "      <td>410.170013</td>\n",
       "      <td>0.385072</td>\n",
       "    </tr>\n",
       "  </tbody>\n",
       "</table>\n",
       "<p>202 rows × 4 columns</p>\n",
       "</div>"
      ],
      "text/plain": [
       "            Date        Open       Close  Scaled Close\n",
       "807   2021-04-21  508.000000  508.899994      0.600730\n",
       "808   2021-04-22  513.820007  508.779999      0.600467\n",
       "809   2021-04-23  509.010010  505.549988      0.593412\n",
       "810   2021-04-26  506.760010  510.299988      0.603788\n",
       "811   2021-04-27  512.619995  505.549988      0.593412\n",
       "...          ...         ...         ...           ...\n",
       "1004  2022-01-31  401.970001  427.140015      0.422140\n",
       "1005  2022-02-01  432.959991  457.130005      0.487648\n",
       "1006  2022-02-02  448.250000  429.480011      0.427251\n",
       "1007  2022-02-03  421.440002  405.600006      0.375090\n",
       "1008  2022-02-04  407.309998  410.170013      0.385072\n",
       "\n",
       "[202 rows x 4 columns]"
      ]
     },
     "execution_count": 288,
     "metadata": {},
     "output_type": "execute_result"
    }
   ],
   "source": [
    "test_data"
   ]
  },
  {
   "cell_type": "code",
   "execution_count": 289,
   "id": "7dc2166c",
   "metadata": {},
   "outputs": [],
   "source": [
    "# Create sequences of historical stock prices"
   ]
  },
  {
   "cell_type": "code",
   "execution_count": 290,
   "id": "b353d59c",
   "metadata": {},
   "outputs": [],
   "source": [
    "def create_sequences(data, seq_length):\n",
    "    X = []\n",
    "    y = []\n",
    "    for i in range(seq_length, len(data)):\n",
    "        X.append(data[i-seq_length:i, 0])\n",
    "        y.append(data[i, 0])\n",
    "    return np.array(X), np.array(y)\n",
    "\n",
    "seq_length = 60\n",
    "train_X, train_y = create_sequences(train_data['Scaled Close'].values.reshape(-1, 1), seq_length)\n",
    "test_X, test_y = create_sequences(test_data['Scaled Close'].values.reshape(-1, 1), seq_length)\n"
   ]
  },
  {
   "cell_type": "code",
   "execution_count": 291,
   "id": "f2e4a2ec",
   "metadata": {},
   "outputs": [
    {
     "data": {
      "text/plain": [
       "<function __main__.create_sequences(data, seq_length)>"
      ]
     },
     "execution_count": 291,
     "metadata": {},
     "output_type": "execute_result"
    }
   ],
   "source": [
    "create_sequences"
   ]
  },
  {
   "cell_type": "code",
   "execution_count": 292,
   "id": "4359a55d",
   "metadata": {},
   "outputs": [
    {
     "data": {
      "text/plain": [
       "array([[0.04451626, 0.06954849, 0.06701469, ..., 0.17011425, 0.17164323,\n",
       "        0.17347804],\n",
       "       [0.06954849, 0.06701469, 0.03542955, ..., 0.17164323, 0.17347804,\n",
       "        0.1736091 ],\n",
       "       [0.06701469, 0.03542955, 0.03405342, ..., 0.17347804, 0.1736091 ,\n",
       "        0.16996133],\n",
       "       ...,\n",
       "       [0.76988276, 0.75568473, 0.72364077, ..., 0.69865223, 0.6687054 ,\n",
       "        0.68880096],\n",
       "       [0.75568473, 0.72364077, 0.70531449, ..., 0.6687054 , 0.68880096,\n",
       "        0.68294702],\n",
       "       [0.72364077, 0.70531449, 0.71656362, ..., 0.68880096, 0.68294702,\n",
       "        0.70020314]])"
      ]
     },
     "execution_count": 292,
     "metadata": {},
     "output_type": "execute_result"
    }
   ],
   "source": [
    "train_X"
   ]
  },
  {
   "cell_type": "code",
   "execution_count": 293,
   "id": "be732390",
   "metadata": {},
   "outputs": [
    {
     "data": {
      "text/plain": [
       "array([0.1736091 , 0.16996133, 0.18830954, 0.20178678, 0.20316291,\n",
       "       0.21061135, 0.20908237, 0.2022236 , 0.20674514, 0.20150281,\n",
       "       0.20600248, 0.19951508, 0.19724337, 0.21393155, 0.21349466,\n",
       "       0.24210916, 0.25209149, 0.25646011, 0.25305259, 0.26137482,\n",
       "       0.25713724, 0.27533254, 0.27943906, 0.28815444, 0.29175861,\n",
       "       0.27854348, 0.27673053, 0.27865273, 0.28385134, 0.31901878,\n",
       "       0.34728379, 0.34533979, 0.34188853, 0.37373584, 0.39946704,\n",
       "       0.39658373, 0.38708196, 0.32895744, 0.36152555, 0.34186674,\n",
       "       0.35285382, 0.34413837, 0.35888248, 0.34215064, 0.35934124,\n",
       "       0.38087852, 0.40429435, 0.39699876, 0.40359536, 0.39234616,\n",
       "       0.35368381, 0.36390644, 0.31803588, 0.30853411, 0.28472512,\n",
       "       0.27777896, 0.28129573, 0.26963151, 0.28175442, 0.28223497,\n",
       "       0.26502258, 0.22079026, 0.22622924, 0.22826063, 0.24162861,\n",
       "       0.23854872, 0.25565193, 0.25763959, 0.24842179, 0.25224434,\n",
       "       0.24462111, 0.23466065, 0.22631656, 0.20209255, 0.19344269,\n",
       "       0.18107948, 0.20499772, 0.22747425, 0.24149756, 0.22998626,\n",
       "       0.27290798, 0.28548958, 0.29403024, 0.29304734, 0.29946923,\n",
       "       0.29226096, 0.28334899, 0.23437668, 0.24590985, 0.25075902,\n",
       "       0.25016928, 0.26659529, 0.29721939, 0.29328759, 0.28544591,\n",
       "       0.25440685, 0.29219543, 0.29068825, 0.28719334, 0.27808479,\n",
       "       0.29647666, 0.2960835 , 0.31454097, 0.32072254, 0.3063498 ,\n",
       "       0.32229525, 0.3129246 , 0.31272795, 0.28345818, 0.25659117,\n",
       "       0.25167646, 0.26611473, 0.2009786 , 0.19051572, 0.23083811,\n",
       "       0.21679299, 0.24577879, 0.28575175, 0.24645592, 0.21578823,\n",
       "       0.20895132, 0.21685852, 0.14842398, 0.17253881, 0.14405536,\n",
       "       0.11131253, 0.11343132, 0.14831479, 0.18239008, 0.16430397,\n",
       "       0.1781525 , 0.16810465, 0.20449531, 0.18356962, 0.15200628,\n",
       "       0.13147376, 0.13219456, 0.11544092, 0.12271465, 0.11430503,\n",
       "       0.08020795, 0.07230075, 0.06170682, 0.05447675, 0.06017778,\n",
       "       0.07153623, 0.10652889, 0.1198532 , 0.11413032, 0.12323886,\n",
       "       0.0905397 , 0.1070313 , 0.06828162, 0.07824208, 0.06867478,\n",
       "       0.0895568 , 0.09204688, 0.07199491, 0.06317027, 0.08095061,\n",
       "       0.071842  , 0.0583211 , 0.02732573, 0.        , 0.04322752,\n",
       "       0.04737774, 0.04849169, 0.07378607, 0.07378607, 0.08151855,\n",
       "       0.13911885, 0.17793406, 0.1887027 , 0.18802557, 0.19829187,\n",
       "       0.22653501, 0.21637797, 0.26377757, 0.25667856, 0.26061029,\n",
       "       0.22983334, 0.19938402, 0.19245972, 0.20268235, 0.22753977,\n",
       "       0.2223193 , 0.20755333, 0.23324086, 0.23070705, 0.23147157,\n",
       "       0.2565693 , 0.26633318, 0.25842598, 0.2420873 , 0.24833447,\n",
       "       0.24431534, 0.27541993, 0.25750854, 0.27345406, 0.26864855,\n",
       "       0.27967936, 0.27528887, 0.26886699, 0.28208205, 0.28402612,\n",
       "       0.28634149, 0.28175442, 0.27133527, 0.26963151, 0.25591404,\n",
       "       0.26303485, 0.27463354, 0.25932156, 0.25276862, 0.27299531,\n",
       "       0.26733795, 0.27812845, 0.27290798, 0.27867453, 0.28299949,\n",
       "       0.27282059, 0.30873069, 0.3145191 , 0.27769163, 0.28909374,\n",
       "       0.27541993, 0.26100345, 0.26371198, 0.26797142, 0.29068825,\n",
       "       0.29234835, 0.2967825 , 0.29269785, 0.28747731, 0.27856534,\n",
       "       0.28577355, 0.28404799, 0.29219543, 0.25613248, 0.25117405,\n",
       "       0.27430591, 0.26399595, 0.27624998, 0.31336142, 0.32330008,\n",
       "       0.30656824, 0.29368075, 0.3079225 , 0.30132584, 0.29850813,\n",
       "       0.31657236, 0.31711844, 0.33015879, 0.31626659, 0.29833334,\n",
       "       0.28503089, 0.28149231, 0.27775716, 0.24328871, 0.24405317,\n",
       "       0.26454203, 0.27397827, 0.26336255, 0.24951395, 0.26296932,\n",
       "       0.27489571, 0.25846964, 0.2632315 , 0.26469495, 0.25187304,\n",
       "       0.25768332, 0.23896375, 0.22443809, 0.26106898, 0.26615846,\n",
       "       0.26921649, 0.2773858 , 0.25803282, 0.25641638, 0.24394398,\n",
       "       0.23929138, 0.23120947, 0.25499659, 0.26919462, 0.28317421,\n",
       "       0.2868657 , 0.29560295, 0.29960028, 0.27614072, 0.28029097,\n",
       "       0.29737224, 0.29147464, 0.30737643, 0.30918938, 0.32292872,\n",
       "       0.32037305, 0.31078395, 0.31901878, 0.32135601, 0.31807954,\n",
       "       0.30442759, 0.28990193, 0.28856946, 0.28081518, 0.19949321,\n",
       "       0.17740985, 0.1676241 , 0.16037217, 0.18361328, 0.2022236 ,\n",
       "       0.22258141, 0.21585376, 0.20106592, 0.19464403, 0.18702081,\n",
       "       0.18555729, 0.16109303, 0.16648828, 0.15379744, 0.17915727,\n",
       "       0.16393261, 0.16808279, 0.17125007, 0.14248265, 0.13516526,\n",
       "       0.15054277, 0.16491558, 0.14222054, 0.13964307, 0.13772086,\n",
       "       0.12572901, 0.13346149, 0.12483343, 0.1264498 , 0.13739323,\n",
       "       0.13077477, 0.12103275, 0.12590373, 0.12968261, 0.12295496,\n",
       "       0.1320635 , 0.1181931 , 0.11880471, 0.12009345, 0.13164848,\n",
       "       0.13195431, 0.14136869, 0.12599112, 0.11515695, 0.08053558,\n",
       "       0.06998538, 0.04523709, 0.06742971, 0.0642843 , 0.06378188,\n",
       "       0.07369867, 0.07797991, 0.07459425, 0.07485636, 0.0849916 ,\n",
       "       0.08863936, 0.08047006, 0.0735021 , 0.10178897, 0.10714049,\n",
       "       0.11281972, 0.1100238 , 0.11445795, 0.12990105, 0.09047418,\n",
       "       0.09648104, 0.07166728, 0.0816714 , 0.08217382, 0.09379437,\n",
       "       0.10480326, 0.10338347, 0.12575087, 0.11692623, 0.11561563,\n",
       "       0.12883069, 0.1182805 , 0.11950371, 0.12164436, 0.12601298,\n",
       "       0.131714  , 0.12697408, 0.10753365, 0.12175354, 0.13357068,\n",
       "       0.15004042, 0.15010594, 0.15569778, 0.16996133, 0.16731833,\n",
       "       0.17839275, 0.17170876, 0.1792228 , 0.17644874, 0.16624798,\n",
       "       0.15788209, 0.15386296, 0.15067382, 0.16048143, 0.1498875 ,\n",
       "       0.12939864, 0.14208949, 0.14101919, 0.14115025, 0.15362265,\n",
       "       0.1782399 , 0.18986039, 0.21480526, 0.22502783, 0.21672747,\n",
       "       0.21694591, 0.21570084, 0.20796835, 0.19534303, 0.19591097,\n",
       "       0.20954106, 0.20100039, 0.2226906 , 0.21159432, 0.23018284,\n",
       "       0.2223193 , 0.20788096, 0.22944018, 0.22893776, 0.22976781,\n",
       "       0.22878485, 0.23107841, 0.22767083, 0.20121884, 0.25276862,\n",
       "       0.26054477, 0.23809004, 0.25040953, 0.23870164, 0.24870576,\n",
       "       0.24291735, 0.27111683, 0.29516613, 0.29660778, 0.29066645,\n",
       "       0.29027322, 0.29966581, 0.30538869, 0.31919356, 0.32222972,\n",
       "       0.32004541, 0.33616565, 0.3326926 , 0.33227757, 0.31932462,\n",
       "       0.294489  , 0.27568203, 0.3175116 , 0.30106373, 0.29520979,\n",
       "       0.3214652 , 0.29464185, 0.32745026, 0.30340096, 0.29507874,\n",
       "       0.24597537, 0.28450667, 0.25346761, 0.17773748, 0.22371723,\n",
       "       0.14189291, 0.18756688, 0.17821803, 0.21439024, 0.21613766,\n",
       "       0.27607519, 0.26963151, 0.23701975, 0.28201653, 0.26919462,\n",
       "       0.2994255 , 0.30934229, 0.28439742, 0.29750329, 0.27932987,\n",
       "       0.31908431, 0.30230881, 0.299775  , 0.29890128, 0.3556934 ,\n",
       "       0.39245535, 0.4212883 , 0.44841749, 0.41300974, 0.44474779,\n",
       "       0.4367532 , 0.40964594, 0.42117911, 0.41744389, 0.40955855,\n",
       "       0.37122383, 0.38882945, 0.40621656, 0.39621237, 0.42434632,\n",
       "       0.41676676, 0.43769251, 0.44265087, 0.44051022, 0.45136626,\n",
       "       0.43236278, 0.44645155, 0.45448987, 0.48122583, 0.47770906,\n",
       "       0.47434526, 0.46698414, 0.44203927, 0.426902  , 0.39512021,\n",
       "       0.40630395, 0.39221511, 0.40595445, 0.41947535, 0.42251151,\n",
       "       0.41084729, 0.39415911, 0.40567048, 0.40543017, 0.43723375,\n",
       "       0.43817306, 0.41868896, 0.40232848, 0.41855791, 0.44177716,\n",
       "       0.46720252, 0.47178959, 0.4801992 , 0.51147857, 0.5075905 ,\n",
       "       0.48922042, 0.50682598, 0.45765709, 0.46604484, 0.48308251,\n",
       "       0.54992248, 0.53080975, 0.56776828, 0.56634849, 0.58736156,\n",
       "       0.59823946, 0.68773067, 0.63698914, 0.63563487, 0.6320963 ,\n",
       "       0.64111752, 0.56597712, 0.58655338, 0.5596645 , 0.55905289,\n",
       "       0.53231686, 0.5385859 , 0.5717874 , 0.55619145, 0.54738867,\n",
       "       0.55027191, 0.55699963, 0.57827481, 0.60234598, 0.58589804,\n",
       "       0.6011227 , 0.56977787, 0.54498591, 0.50905395, 0.527708  ,\n",
       "       0.54050804, 0.54345687, 0.54273608, 0.5635307 , 0.54749786,\n",
       "       0.57670211, 0.56449181, 0.55684672, 0.56071292, 0.6851096 ,\n",
       "       0.6386711 , 0.63347243, 0.64585744, 0.70481201, 0.69670829,\n",
       "       0.63753522, 0.61634736, 0.59662302, 0.5817042 , 0.53906645,\n",
       "       0.54203708, 0.52943362, 0.57253006, 0.54603434, 0.51619669,\n",
       "       0.51567241, 0.55365764, 0.56200172, 0.5170922 , 0.52248746,\n",
       "       0.54389376, 0.56086584, 0.56704748, 0.5813547 , 0.64137963,\n",
       "       0.58797317, 0.62639528, 0.59411108, 0.65699738, 0.65072841,\n",
       "       0.66743845, 0.66824664, 0.69943868, 0.67182894, 0.67289924,\n",
       "       0.6485441 , 0.64839118, 0.63681436, 0.55737093, 0.54902691,\n",
       "       0.55568903, 0.55560164, 0.55710882, 0.55123302, 0.59048511,\n",
       "       0.52829774, 0.54660228, 0.55337367, 0.57462705, 0.61134533,\n",
       "       0.61346405, 0.51685196, 0.53812714, 0.56110615, 0.5523907 ,\n",
       "       0.54380637, 0.53563706, 0.53897906, 0.54151287, 0.5478037 ,\n",
       "       0.55560164, 0.53021994, 0.54389376, 0.54852449, 0.56241668,\n",
       "       0.5609751 , 0.5912933 , 0.58867216, 0.57587206, 0.57759768,\n",
       "       0.61575769, 0.60894251, 0.56730959, 0.58367007, 0.58832266,\n",
       "       0.63026142, 0.62449493, 0.63552569, 0.6531531 , 0.65653876,\n",
       "       0.64443758, 0.64098647, 0.61291797, 0.61180395, 0.62305321,\n",
       "       0.64871888, 0.63500147, 0.67025617, 0.63122252, 0.62672284,\n",
       "       0.58235947, 0.60070774, 0.60400601, 0.57932331, 0.56872938,\n",
       "       0.59830499, 0.58316765, 0.57687689, 0.58515538, 0.76988276,\n",
       "       0.75568473, 0.72364077, 0.70531449, 0.71656362, 0.63214003,\n",
       "       0.66560358, 0.65203908, 0.66656468, 0.68648559, 0.66746032,\n",
       "       0.69522284, 0.69223035, 0.68596138, 0.71031652, 0.72018965,\n",
       "       0.70708378, 0.70474655, 0.70640664, 0.69343183, 0.68661665,\n",
       "       0.66914215, 0.65507531, 0.68209524, 0.69795323, 0.68329658,\n",
       "       0.66614965, 0.69190278, 0.685743  , 0.62650446, 0.60595008,\n",
       "       0.61709009, 0.56671978, 0.59535615, 0.59120597, 0.63165941,\n",
       "       0.62065053, 0.6255215 , 0.63377826, 0.63467377, 0.59175205,\n",
       "       0.60789408, 0.6317686 , 0.65793675, 0.62674471, 0.58753627,\n",
       "       0.59887286, 0.61176036, 0.61053715, 0.62860132, 0.66739473,\n",
       "       0.67012512, 0.67855666, 0.68392999, 0.70050898, 0.70210348,\n",
       "       0.69657724, 0.69865223, 0.6687054 , 0.68880096, 0.68294702,\n",
       "       0.70020314, 0.68956555])"
      ]
     },
     "execution_count": 293,
     "metadata": {},
     "output_type": "execute_result"
    }
   ],
   "source": [
    "train_y"
   ]
  },
  {
   "cell_type": "code",
   "execution_count": 294,
   "id": "df542739",
   "metadata": {},
   "outputs": [
    {
     "data": {
      "text/plain": [
       "array([[0.60072954, 0.60046743, 0.59341208, ..., 0.67014698, 0.68602697,\n",
       "        0.67510541],\n",
       "       [0.60046743, 0.59341208, 0.60378756, ..., 0.68602697, 0.67510541,\n",
       "        0.64749567],\n",
       "       [0.59341208, 0.60378756, 0.59341208, ..., 0.67510541, 0.64749567,\n",
       "        0.65179884],\n",
       "       ...,\n",
       "       [0.8995871 , 0.9121033 , 0.92202003, ..., 0.32869527, 0.42214021,\n",
       "        0.48764772],\n",
       "       [0.9121033 , 0.92202003, 0.90218643, ..., 0.42214021, 0.48764772,\n",
       "        0.4272515 ],\n",
       "       [0.92202003, 0.90218643, 0.92549314, ..., 0.48764772, 0.4272515 ,\n",
       "        0.37509011]])"
      ]
     },
     "execution_count": 294,
     "metadata": {},
     "output_type": "execute_result"
    }
   ],
   "source": [
    "test_X"
   ]
  },
  {
   "cell_type": "code",
   "execution_count": 295,
   "id": "c9a9ee06",
   "metadata": {},
   "outputs": [
    {
     "data": {
      "text/plain": [
       "array([0.64749567, 0.65179884, 0.64911204, 0.61106136, 0.60699851,\n",
       "       0.61494937, 0.61730846, 0.62259446, 0.62344637, 0.61241562,\n",
       "       0.61966756, 0.61438156, 0.60492345, 0.61918694, 0.63565674,\n",
       "       0.62617677, 0.62490983, 0.61588874, 0.6083747 , 0.604705  ,\n",
       "       0.61606339, 0.62043201, 0.62259446, 0.62906007, 0.67676551,\n",
       "       0.68368974, 0.69777859, 0.69795323, 0.68521879, 0.69076689,\n",
       "       0.70998882, 0.72584695, 0.73242175, 0.7605557 , 0.77471   ,\n",
       "       0.77903503, 0.81437719, 0.81293547, 0.79434695, 0.79692442,\n",
       "       0.77632637, 0.75114132, 0.76230312, 0.77023219, 0.77645742,\n",
       "       0.74605183, 0.74104981, 0.77929713, 0.78499816, 0.78309782,\n",
       "       0.7836439 , 0.76444371, 0.79766714, 0.82230625, 0.82844416,\n",
       "       0.8070378 , 0.87575631, 0.88512696, 0.8692907 , 0.87105998,\n",
       "       0.85878416, 0.85419716, 0.86472556, 0.87355013, 0.86151455,\n",
       "       0.88265868, 0.88490858, 0.85463405, 0.91583838, 0.94122022,\n",
       "       0.95624816, 0.94938952, 0.93715729, 0.9614687 , 0.99698564,\n",
       "       0.97702099, 0.96948509, 0.99257329, 0.94912741, 0.8995871 ,\n",
       "       0.9121033 , 0.92202003, 0.90218643, 0.92549314, 0.98016641,\n",
       "       0.97300193, 0.99062935, 1.        , 0.97887774, 0.97184418,\n",
       "       0.92903172, 0.91780432, 0.92704392, 0.94309869, 0.93916696,\n",
       "       0.89124314, 0.83853568, 0.83569596, 0.804373  , 0.82743933,\n",
       "       0.85559515, 0.86105593, 0.82374784, 0.82518942, 0.80968086,\n",
       "       0.79532991, 0.81072929, 0.78019265, 0.77073453, 0.78604659,\n",
       "       0.81046718, 0.83082499, 0.83049742, 0.82837857, 0.82311443,\n",
       "       0.82274301, 0.8261288 , 0.80505013, 0.79397565, 0.78038929,\n",
       "       0.72877398, 0.69769113, 0.67097703, 0.66833397, 0.67049655,\n",
       "       0.66258921, 0.623228  , 0.63740416, 0.60487972, 0.61593233,\n",
       "       0.59930975, 0.35739716, 0.33478952, 0.28950877, 0.27483019,\n",
       "       0.33380662, 0.32869527, 0.42214021, 0.48764772, 0.4272515 ,\n",
       "       0.37509011, 0.38507243])"
      ]
     },
     "execution_count": 295,
     "metadata": {},
     "output_type": "execute_result"
    }
   ],
   "source": [
    "test_y"
   ]
  },
  {
   "cell_type": "code",
   "execution_count": 296,
   "id": "0e220d78",
   "metadata": {},
   "outputs": [
    {
     "data": {
      "image/png": "[encoded data removed]",
      "text/plain": [
       "<Figure size 600x600 with 1 Axes>"
      ]
     },
     "metadata": {},
     "output_type": "display_data"
    }
   ],
   "source": [
    "# Create box plot of training and testing sequence lengths\n",
    "plt.figure(figsize=(6, 6))\n",
    "plt.boxplot([train_X.shape[1], test_X.shape[1]])\n",
    "plt.xticks([1, 2], ['Training', 'Testing'])\n",
    "plt.ylabel('Scaled Closing Price')\n",
    "plt.title('Netflix Stock Prediction')\n",
    "plt.show()"
   ]
  },
  {
   "cell_type": "code",
   "execution_count": 297,
   "id": "bc2f021a",
   "metadata": {},
   "outputs": [],
   "source": [
    "# Build LSTM model"
   ]
  },
  {
   "cell_type": "code",
   "execution_count": 298,
   "id": "986fb522",
   "metadata": {},
   "outputs": [],
   "source": [
    "model = Sequential()\n",
    "model.add(LSTM(50, return_sequences=True, input_shape=(train_X.shape[1], 1)))\n",
    "model.add(LSTM(50, return_sequences=False))\n",
    "model.add(Dense(25))\n",
    "model.add(Dense(1))\n"
   ]
  },
  {
   "cell_type": "code",
   "execution_count": 299,
   "id": "13614762",
   "metadata": {},
   "outputs": [
    {
     "data": {
      "text/plain": [
       "<keras.src.engine.sequential.Sequential at 0x1d0110ca3d0>"
      ]
     },
     "execution_count": 299,
     "metadata": {},
     "output_type": "execute_result"
    }
   ],
   "source": [
    "model"
   ]
  },
  {
   "cell_type": "code",
   "execution_count": 300,
   "id": "ae3f2e9f",
   "metadata": {},
   "outputs": [],
   "source": [
    "# Compile model"
   ]
  },
  {
   "cell_type": "code",
   "execution_count": 301,
   "id": "e2f53f4b",
   "metadata": {},
   "outputs": [],
   "source": [
    "model.compile(optimizer='adam', loss='mean_squared_error')"
   ]
  },
  {
   "cell_type": "code",
   "execution_count": 302,
   "id": "2778655e",
   "metadata": {},
   "outputs": [
    {
     "name": "stdout",
     "output_type": "stream",
     "text": [
      "Model: \"sequential_1\"\n",
      "_________________________________________________________________\n",
      " Layer (type)                Output Shape              Param #   \n",
      "=================================================================\n",
      " lstm_2 (LSTM)               (None, 60, 50)            10400     \n",
      "                                                                 \n",
      " lstm_3 (LSTM)               (None, 50)                20200     \n",
      "                                                                 \n",
      " dense_2 (Dense)             (None, 25)                1275      \n",
      "                                                                 \n",
      " dense_3 (Dense)             (None, 1)                 26        \n",
      "                                                                 \n",
      "=================================================================\n",
      "Total params: 31901 (124.61 KB)\n",
      "Trainable params: 31901 (124.61 KB)\n",
      "Non-trainable params: 0 (0.00 Byte)\n",
      "_________________________________________________________________\n"
     ]
    }
   ],
   "source": [
    "model.summary()"
   ]
  },
  {
   "cell_type": "code",
   "execution_count": 303,
   "id": "006028ff",
   "metadata": {},
   "outputs": [],
   "source": [
    "# Train model"
   ]
  },
  {
   "cell_type": "code",
   "execution_count": 44,
   "id": "6ba19bf6",
   "metadata": {},
   "outputs": [
    {
     "name": "stdout",
     "output_type": "stream",
     "text": [
      "Epoch 1/25\n",
      "6/6 [==============================] - 1s 223ms/step - loss: 0.0015\n",
      "Epoch 2/25\n",
      "6/6 [==============================] - 1s 220ms/step - loss: 0.0015\n",
      "Epoch 3/25\n",
      "6/6 [==============================] - 1s 217ms/step - loss: 0.0015\n",
      "Epoch 4/25\n",
      "6/6 [==============================] - 1s 219ms/step - loss: 0.0015\n",
      "Epoch 5/25\n",
      "6/6 [==============================] - 1s 224ms/step - loss: 0.0015\n",
      "Epoch 6/25\n",
      "6/6 [==============================] - 1s 225ms/step - loss: 0.0015\n",
      "Epoch 7/25\n",
      "6/6 [==============================] - 1s 222ms/step - loss: 0.0015\n",
      "Epoch 8/25\n",
      "6/6 [==============================] - 1s 206ms/step - loss: 0.0014\n",
      "Epoch 9/25\n",
      "6/6 [==============================] - 1s 205ms/step - loss: 0.0015\n",
      "Epoch 10/25\n",
      "6/6 [==============================] - 1s 204ms/step - loss: 0.0015\n",
      "Epoch 11/25\n",
      "6/6 [==============================] - 1s 211ms/step - loss: 0.0015\n",
      "Epoch 12/25\n",
      "6/6 [==============================] - 1s 218ms/step - loss: 0.0014\n",
      "Epoch 13/25\n",
      "6/6 [==============================] - 1s 215ms/step - loss: 0.0014\n",
      "Epoch 14/25\n",
      "6/6 [==============================] - 1s 211ms/step - loss: 0.0014\n",
      "Epoch 15/25\n",
      "6/6 [==============================] - 1s 228ms/step - loss: 0.0014\n",
      "Epoch 16/25\n",
      "6/6 [==============================] - 1s 225ms/step - loss: 0.0014\n",
      "Epoch 17/25\n",
      "6/6 [==============================] - 1s 211ms/step - loss: 0.0014\n",
      "Epoch 18/25\n",
      "6/6 [==============================] - 1s 213ms/step - loss: 0.0014\n",
      "Epoch 19/25\n",
      "6/6 [==============================] - 1s 218ms/step - loss: 0.0013\n",
      "Epoch 20/25\n",
      "6/6 [==============================] - 1s 213ms/step - loss: 0.0013\n",
      "Epoch 21/25\n",
      "6/6 [==============================] - 1s 214ms/step - loss: 0.0014\n",
      "Epoch 22/25\n",
      "6/6 [==============================] - 1s 218ms/step - loss: 0.0014\n",
      "Epoch 23/25\n",
      "6/6 [==============================] - 1s 208ms/step - loss: 0.0013\n",
      "Epoch 24/25\n",
      "6/6 [==============================] - 1s 219ms/step - loss: 0.0013\n",
      "Epoch 25/25\n",
      "6/6 [==============================] - 1s 208ms/step - loss: 0.0013\n"
     ]
    },
    {
     "data": {
      "text/plain": [
       "<keras.src.callbacks.History at 0x1d00164cb10>"
      ]
     },
     "execution_count": 44,
     "metadata": {},
     "output_type": "execute_result"
    }
   ],
   "source": [
    "model.fit(train_X, train_y, batch_size=128, epochs=25)"
   ]
  },
  {
   "cell_type": "code",
   "execution_count": 45,
   "id": "e1a5c3c7",
   "metadata": {},
   "outputs": [],
   "source": [
    "# Evaluate model on testing set"
   ]
  },
  {
   "cell_type": "code",
   "execution_count": 46,
   "id": "4761d252",
   "metadata": {},
   "outputs": [
    {
     "name": "stdout",
     "output_type": "stream",
     "text": [
      "5/5 [==============================] - 4s 26ms/step - loss: 0.0034\n",
      "Test loss: 0.0033644025679677725\n"
     ]
    }
   ],
   "source": [
    "test_loss = model.evaluate(test_X, test_y)\n",
    "print('Test loss:', test_loss)"
   ]
  },
  {
   "cell_type": "code",
   "execution_count": 47,
   "id": "7ead0bdd",
   "metadata": {},
   "outputs": [],
   "source": [
    "# Make predictions on new data"
   ]
  },
  {
   "cell_type": "code",
   "execution_count": 57,
   "id": "92d74544",
   "metadata": {
    "scrolled": true
   },
   "outputs": [],
   "source": [
    "new_X = np.array([0.5, 0.6, 0.7]).reshape(-1, 1)\n",
    "new_data_scaled = scaler.transform(new_X)"
   ]
  },
  {
   "cell_type": "code",
   "execution_count": 58,
   "id": "29e38696",
   "metadata": {},
   "outputs": [],
   "source": [
    "new_y = []"
   ]
  },
  {
   "cell_type": "code",
   "execution_count": 59,
   "id": "8143b0b9",
   "metadata": {},
   "outputs": [],
   "source": [
    "new_X = np.array(new_X, dtype=np.float32)"
   ]
  },
  {
   "cell_type": "code",
   "execution_count": 63,
   "id": "7cc0f50d",
   "metadata": {},
   "outputs": [],
   "source": [
    "for i in range(seq_length, seq_length+len(new_X)):\n",
    "    new_X.append(new_data_scaled[i-seq_length:i, 0])\n",
    "new_X = np.array(new_X)"
   ]
  },
  {
   "cell_type": "code",
   "execution_count": 65,
   "id": "698bf650",
   "metadata": {},
   "outputs": [
    {
     "data": {
      "text/plain": [
       "array([], dtype=float32)"
      ]
     },
     "execution_count": 65,
     "metadata": {},
     "output_type": "execute_result"
    }
   ],
   "source": [
    "new_X"
   ]
  },
  {
   "cell_type": "code",
   "execution_count": 142,
   "id": "c8add2ae",
   "metadata": {
    "scrolled": true
   },
   "outputs": [
    {
     "name": "stdout",
     "output_type": "stream",
     "text": [
      "5/5 [==============================] - 0s 33ms/step\n"
     ]
    }
   ],
   "source": [
    "test_predicted = model.predict(test_X)\n",
    "\n",
    " \n"
   ]
  },
  {
   "cell_type": "code",
   "execution_count": 146,
   "id": "24616bf7",
   "metadata": {},
   "outputs": [],
   "source": [
    "test_dates = test_data['Date'][seq_length:].reset_index(drop=True)"
   ]
  },
  {
   "cell_type": "code",
   "execution_count": 147,
   "id": "b9908ff7",
   "metadata": {},
   "outputs": [
    {
     "data": {
      "text/plain": [
       "0      2021-07-16\n",
       "1      2021-07-19\n",
       "2      2021-07-20\n",
       "3      2021-07-21\n",
       "4      2021-07-22\n",
       "          ...    \n",
       "137    2022-01-31\n",
       "138    2022-02-01\n",
       "139    2022-02-02\n",
       "140    2022-02-03\n",
       "141    2022-02-04\n",
       "Name: Date, Length: 142, dtype: object"
      ]
     },
     "execution_count": 147,
     "metadata": {},
     "output_type": "execute_result"
    }
   ],
   "source": [
    "test_dates"
   ]
  },
  {
   "cell_type": "code",
   "execution_count": 148,
   "id": "0ecea5aa",
   "metadata": {},
   "outputs": [],
   "source": [
    "# Inverse transform predicted output values to their original form\n",
    "predicted_output_inverse = scaler.inverse_transform(test_predicted)"
   ]
  },
  {
   "cell_type": "code",
   "execution_count": 149,
   "id": "7a74158b",
   "metadata": {},
   "outputs": [
    {
     "data": {
      "text/plain": [
       "array([[541.93854],\n",
       "       [541.2887 ],\n",
       "       [540.04224],\n",
       "       [538.4152 ],\n",
       "       [534.51263],\n",
       "       [529.78314],\n",
       "       [525.6109 ],\n",
       "       [522.28424],\n",
       "       [520.0732 ],\n",
       "       [518.7336 ],\n",
       "       [517.3737 ],\n",
       "       [516.6496 ],\n",
       "       [516.01855],\n",
       "       [514.9998 ],\n",
       "       [514.7804 ],\n",
       "       [515.9194 ],\n",
       "       [517.0447 ],\n",
       "       [518.02893],\n",
       "       [518.3211 ],\n",
       "       [517.82465],\n",
       "       [516.787  ],\n",
       "       [516.25354],\n",
       "       [516.2472 ],\n",
       "       [516.6309 ],\n",
       "       [517.5524 ],\n",
       "       [521.429  ],\n",
       "       [526.6529 ],\n",
       "       [532.8392 ],\n",
       "       [538.8073 ],\n",
       "       [543.2357 ],\n",
       "       [546.7346 ],\n",
       "       [550.4487 ],\n",
       "       [554.68945],\n",
       "       [559.023  ],\n",
       "       [564.56274],\n",
       "       [570.8036 ],\n",
       "       [576.87164],\n",
       "       [584.27905],\n",
       "       [591.228  ],\n",
       "       [595.9545 ],\n",
       "       [599.1892 ],\n",
       "       [599.91473],\n",
       "       [597.7466 ],\n",
       "       [595.10333],\n",
       "       [592.88513],\n",
       "       [591.44324],\n",
       "       [588.63104],\n",
       "       [585.2849 ],\n",
       "       [584.41425],\n",
       "       [585.0618 ],\n",
       "       [586.2932 ],\n",
       "       [587.7493 ],\n",
       "       [587.97577],\n",
       "       [589.71136],\n",
       "       [593.3756 ],\n",
       "       [597.8788 ],\n",
       "       [600.93774],\n",
       "       [607.3251 ],\n",
       "       [614.8864 ],\n",
       "       [621.1205 ],\n",
       "       [626.1276 ],\n",
       "       [629.0833 ],\n",
       "       [630.3719 ],\n",
       "       [631.29755],\n",
       "       [632.3749 ],\n",
       "       [632.54114],\n",
       "       [633.6118 ],\n",
       "       [635.     ],\n",
       "       [634.4181 ],\n",
       "       [636.98145],\n",
       "       [642.07886],\n",
       "       [648.68896],\n",
       "       [654.7487 ],\n",
       "       [659.0376 ],\n",
       "       [663.5387 ],\n",
       "       [669.72516],\n",
       "       [674.44226],\n",
       "       [677.4454 ],\n",
       "       [680.7321 ],\n",
       "       [680.6882 ],\n",
       "       [675.9714 ],\n",
       "       [670.57874],\n",
       "       [665.9991 ],\n",
       "       [660.9993 ],\n",
       "       [658.03687],\n",
       "       [659.8688 ],\n",
       "       [663.1177 ],\n",
       "       [667.9498 ],\n",
       "       [673.5299 ],\n",
       "       [677.377  ],\n",
       "       [679.5611 ],\n",
       "       [677.84814],\n",
       "       [673.91315],\n",
       "       [669.9788 ],\n",
       "       [667.4795 ],\n",
       "       [665.6366 ],\n",
       "       [661.2646 ],\n",
       "       [653.06775],\n",
       "       [644.0997 ],\n",
       "       [633.8212 ],\n",
       "       [625.7878 ],\n",
       "       [621.5055 ],\n",
       "       [619.8706 ],\n",
       "       [617.461  ],\n",
       "       [615.3325 ],\n",
       "       [612.65656],\n",
       "       [609.251  ],\n",
       "       [606.96014],\n",
       "       [603.53436],\n",
       "       [599.556  ],\n",
       "       [596.79047],\n",
       "       [596.4287 ],\n",
       "       [598.52   ],\n",
       "       [601.54895],\n",
       "       [604.6249 ],\n",
       "       [607.077  ],\n",
       "       [608.9416 ],\n",
       "       [610.50104],\n",
       "       [610.3701 ],\n",
       "       [608.8034 ],\n",
       "       [605.8755 ],\n",
       "       [599.433  ],\n",
       "       [590.3005 ],\n",
       "       [579.361  ],\n",
       "       [568.723  ],\n",
       "       [559.5922 ],\n",
       "       [551.80615],\n",
       "       [543.3225 ],\n",
       "       [536.52423],\n",
       "       [529.40826],\n",
       "       [523.7883 ],\n",
       "       [518.5957 ],\n",
       "       [500.3759 ],\n",
       "       [477.40054],\n",
       "       [452.07938],\n",
       "       [427.6618 ],\n",
       "       [409.44797],\n",
       "       [395.98047],\n",
       "       [391.40192],\n",
       "       [395.40643],\n",
       "       [400.48676],\n",
       "       [403.20898]], dtype=float32)"
      ]
     },
     "execution_count": 149,
     "metadata": {},
     "output_type": "execute_result"
    }
   ],
   "source": [
    "predicted_output_inverse"
   ]
  },
  {
   "cell_type": "code",
   "execution_count": 150,
   "id": "48eea891",
   "metadata": {},
   "outputs": [],
   "source": [
    "# Flatten test_predictions to match shape of test_data['Close'][seq_length:]\n",
    "Actual =  test_data['Close'][seq_length:].reset_index(drop=True)\n"
   ]
  },
  {
   "cell_type": "code",
   "execution_count": 151,
   "id": "193ffee0",
   "metadata": {},
   "outputs": [
    {
     "data": {
      "text/plain": [
       "0      530.309998\n",
       "1      532.280029\n",
       "2      531.049988\n",
       "3      513.630005\n",
       "4      511.769989\n",
       "          ...    \n",
       "137    427.140015\n",
       "138    457.130005\n",
       "139    429.480011\n",
       "140    405.600006\n",
       "141    410.170013\n",
       "Name: Close, Length: 142, dtype: float64"
      ]
     },
     "execution_count": 151,
     "metadata": {},
     "output_type": "execute_result"
    }
   ],
   "source": [
    " Actual"
   ]
  },
  {
   "cell_type": "code",
   "execution_count": 168,
   "id": "4d096c51",
   "metadata": {},
   "outputs": [],
   "source": [
    " \n",
    "\n",
    "Predicted = pd.Series(test_predicted_1d, index=test_dates)\n",
    " "
   ]
  },
  {
   "cell_type": "code",
   "execution_count": 169,
   "id": "9796841a",
   "metadata": {},
   "outputs": [
    {
     "data": {
      "text/plain": [
       "Date\n",
       "2021-07-16    0.672896\n",
       "2021-07-19    0.671477\n",
       "2021-07-20    0.668754\n",
       "2021-07-21    0.665200\n",
       "2021-07-22    0.656675\n",
       "                ...   \n",
       "2022-01-31    0.354078\n",
       "2022-02-01    0.344077\n",
       "2022-02-02    0.352824\n",
       "2022-02-03    0.363921\n",
       "2022-02-04    0.369867\n",
       "Length: 142, dtype: float32"
      ]
     },
     "execution_count": 169,
     "metadata": {},
     "output_type": "execute_result"
    }
   ],
   "source": [
    "Predicted"
   ]
  },
  {
   "cell_type": "code",
   "execution_count": 170,
   "id": "0811f91b",
   "metadata": {},
   "outputs": [],
   "source": [
    "# Compare predicted output values to actual output values for test data\n"
   ]
  },
  {
   "cell_type": "code",
   "execution_count": 171,
   "id": "ba37f7b1",
   "metadata": {},
   "outputs": [
    {
     "name": "stdout",
     "output_type": "stream",
     "text": [
      "Mean Squared Error: 343079.22\n"
     ]
    }
   ],
   "source": [
    "mse = np.mean((predicted_output_inverse-test_predicted )**2)\n",
    "print('Mean Squared Error:', mse)"
   ]
  },
  {
   "cell_type": "code",
   "execution_count": 172,
   "id": "259be48b",
   "metadata": {},
   "outputs": [],
   "source": [
    "\n",
    "gstock_data_pred_actual = np.concatenate([test_predicted.reshape(-1, 1),  predicted_output_inverse.reshape(-1, 1)], axis=0)"
   ]
  },
  {
   "cell_type": "code",
   "execution_count": 173,
   "id": "5d8d144b",
   "metadata": {
    "scrolled": false
   },
   "outputs": [
    {
     "data": {
      "text/plain": [
       "array([[6.7289603e-01],\n",
       "       [6.7147654e-01],\n",
       "       [6.6875392e-01],\n",
       "       [6.6520000e-01],\n",
       "       [6.5667546e-01],\n",
       "       [6.4634478e-01],\n",
       "       [6.3723141e-01],\n",
       "       [6.2996489e-01],\n",
       "       [6.2513530e-01],\n",
       "       [6.2220919e-01],\n",
       "       [6.1923879e-01],\n",
       "       [6.1765712e-01],\n",
       "       [6.1627865e-01],\n",
       "       [6.1405349e-01],\n",
       "       [6.1357415e-01],\n",
       "       [6.1606210e-01],\n",
       "       [6.1852002e-01],\n",
       "       [6.2067002e-01],\n",
       "       [6.2130827e-01],\n",
       "       [6.2022376e-01],\n",
       "       [6.1795712e-01],\n",
       "       [6.1679196e-01],\n",
       "       [6.1677814e-01],\n",
       "       [6.1761636e-01],\n",
       "       [6.1962920e-01],\n",
       "       [6.2809688e-01],\n",
       "       [6.3950741e-01],\n",
       "       [6.5302014e-01],\n",
       "       [6.6605639e-01],\n",
       "       [6.7572939e-01],\n",
       "       [6.8337220e-01],\n",
       "       [6.9148493e-01],\n",
       "       [7.0074803e-01],\n",
       "       [7.1021378e-01],\n",
       "       [7.2231442e-01],\n",
       "       [7.3594636e-01],\n",
       "       [7.4920082e-01],\n",
       "       [7.6538104e-01],\n",
       "       [7.8055966e-01],\n",
       "       [7.9088378e-01],\n",
       "       [7.9794931e-01],\n",
       "       [7.9953408e-01],\n",
       "       [7.9479831e-01],\n",
       "       [7.8902447e-01],\n",
       "       [7.8417939e-01],\n",
       "       [7.8102976e-01],\n",
       "       [7.7488703e-01],\n",
       "       [7.6757801e-01],\n",
       "       [7.6567632e-01],\n",
       "       [7.6709068e-01],\n",
       "       [7.6978058e-01],\n",
       "       [7.7296120e-01],\n",
       "       [7.7345574e-01],\n",
       "       [7.7724671e-01],\n",
       "       [7.8525066e-01],\n",
       "       [7.9508698e-01],\n",
       "       [8.0176866e-01],\n",
       "       [8.1572068e-01],\n",
       "       [8.3223695e-01],\n",
       "       [8.4585404e-01],\n",
       "       [8.5679126e-01],\n",
       "       [8.6324739e-01],\n",
       "       [8.6606210e-01],\n",
       "       [8.6808401e-01],\n",
       "       [8.7043726e-01],\n",
       "       [8.7080038e-01],\n",
       "       [8.7313908e-01],\n",
       "       [8.7617135e-01],\n",
       "       [8.7490022e-01],\n",
       "       [8.8049942e-01],\n",
       "       [8.9163375e-01],\n",
       "       [9.0607232e-01],\n",
       "       [9.1930872e-01],\n",
       "       [9.2867702e-01],\n",
       "       [9.3850875e-01],\n",
       "       [9.5202190e-01],\n",
       "       [9.6232545e-01],\n",
       "       [9.6888530e-01],\n",
       "       [9.7606462e-01],\n",
       "       [9.7596848e-01],\n",
       "       [9.6566564e-01],\n",
       "       [9.5388645e-01],\n",
       "       [9.4388300e-01],\n",
       "       [9.3296194e-01],\n",
       "       [9.2649102e-01],\n",
       "       [9.3049252e-01],\n",
       "       [9.3758905e-01],\n",
       "       [9.4814414e-01],\n",
       "       [9.6033269e-01],\n",
       "       [9.6873593e-01],\n",
       "       [9.7350675e-01],\n",
       "       [9.6976513e-01],\n",
       "       [9.6116978e-01],\n",
       "       [9.5257592e-01],\n",
       "       [9.4711667e-01],\n",
       "       [9.4309121e-01],\n",
       "       [9.3354130e-01],\n",
       "       [9.1563690e-01],\n",
       "       [8.9604789e-01],\n",
       "       [8.7359649e-01],\n",
       "       [8.5604900e-01],\n",
       "       [8.4669513e-01],\n",
       "       [8.4312403e-01],\n",
       "       [8.3786064e-01],\n",
       "       [8.3321142e-01],\n",
       "       [8.2736629e-01],\n",
       "       [8.1992733e-01],\n",
       "       [8.1492358e-01],\n",
       "       [8.0744052e-01],\n",
       "       [7.9875064e-01],\n",
       "       [7.9270977e-01],\n",
       "       [7.9191965e-01],\n",
       "       [7.9648757e-01],\n",
       "       [8.0310380e-01],\n",
       "       [8.0982256e-01],\n",
       "       [8.1517881e-01],\n",
       "       [8.1925166e-01],\n",
       "       [8.2265800e-01],\n",
       "       [8.2237196e-01],\n",
       "       [8.1894976e-01],\n",
       "       [8.1255430e-01],\n",
       "       [7.9848182e-01],\n",
       "       [7.7853364e-01],\n",
       "       [7.5463843e-01],\n",
       "       [7.3140168e-01],\n",
       "       [7.1145713e-01],\n",
       "       [6.9445008e-01],\n",
       "       [6.7591906e-01],\n",
       "       [6.6106957e-01],\n",
       "       [6.4552599e-01],\n",
       "       [6.3325024e-01],\n",
       "       [6.2190795e-01],\n",
       "       [5.8211017e-01],\n",
       "       [5.3192484e-01],\n",
       "       [4.7661561e-01],\n",
       "       [4.2328000e-01],\n",
       "       [3.8349524e-01],\n",
       "       [3.5407802e-01],\n",
       "       [3.4407702e-01],\n",
       "       [3.5282418e-01],\n",
       "       [3.6392123e-01],\n",
       "       [3.6986735e-01],\n",
       "       [5.4193854e+02],\n",
       "       [5.4128870e+02],\n",
       "       [5.4004224e+02],\n",
       "       [5.3841522e+02],\n",
       "       [5.3451263e+02],\n",
       "       [5.2978314e+02],\n",
       "       [5.2561090e+02],\n",
       "       [5.2228424e+02],\n",
       "       [5.2007318e+02],\n",
       "       [5.1873358e+02],\n",
       "       [5.1737372e+02],\n",
       "       [5.1664960e+02],\n",
       "       [5.1601855e+02],\n",
       "       [5.1499982e+02],\n",
       "       [5.1478040e+02],\n",
       "       [5.1591937e+02],\n",
       "       [5.1704468e+02],\n",
       "       [5.1802893e+02],\n",
       "       [5.1832111e+02],\n",
       "       [5.1782465e+02],\n",
       "       [5.1678699e+02],\n",
       "       [5.1625354e+02],\n",
       "       [5.1624719e+02],\n",
       "       [5.1663092e+02],\n",
       "       [5.1755243e+02],\n",
       "       [5.2142902e+02],\n",
       "       [5.2665289e+02],\n",
       "       [5.3283917e+02],\n",
       "       [5.3880731e+02],\n",
       "       [5.4323572e+02],\n",
       "       [5.4673462e+02],\n",
       "       [5.5044873e+02],\n",
       "       [5.5468945e+02],\n",
       "       [5.5902301e+02],\n",
       "       [5.6456274e+02],\n",
       "       [5.7080359e+02],\n",
       "       [5.7687164e+02],\n",
       "       [5.8427905e+02],\n",
       "       [5.9122803e+02],\n",
       "       [5.9595453e+02],\n",
       "       [5.9918921e+02],\n",
       "       [5.9991473e+02],\n",
       "       [5.9774658e+02],\n",
       "       [5.9510333e+02],\n",
       "       [5.9288513e+02],\n",
       "       [5.9144324e+02],\n",
       "       [5.8863104e+02],\n",
       "       [5.8528491e+02],\n",
       "       [5.8441425e+02],\n",
       "       [5.8506183e+02],\n",
       "       [5.8629321e+02],\n",
       "       [5.8774933e+02],\n",
       "       [5.8797577e+02],\n",
       "       [5.8971136e+02],\n",
       "       [5.9337561e+02],\n",
       "       [5.9787878e+02],\n",
       "       [6.0093774e+02],\n",
       "       [6.0732507e+02],\n",
       "       [6.1488641e+02],\n",
       "       [6.2112048e+02],\n",
       "       [6.2612762e+02],\n",
       "       [6.2908331e+02],\n",
       "       [6.3037189e+02],\n",
       "       [6.3129755e+02],\n",
       "       [6.3237488e+02],\n",
       "       [6.3254114e+02],\n",
       "       [6.3361182e+02],\n",
       "       [6.3500000e+02],\n",
       "       [6.3441809e+02],\n",
       "       [6.3698145e+02],\n",
       "       [6.4207886e+02],\n",
       "       [6.4868896e+02],\n",
       "       [6.5474872e+02],\n",
       "       [6.5903760e+02],\n",
       "       [6.6353870e+02],\n",
       "       [6.6972516e+02],\n",
       "       [6.7444226e+02],\n",
       "       [6.7744537e+02],\n",
       "       [6.8073212e+02],\n",
       "       [6.8068817e+02],\n",
       "       [6.7597137e+02],\n",
       "       [6.7057874e+02],\n",
       "       [6.6599908e+02],\n",
       "       [6.6099933e+02],\n",
       "       [6.5803687e+02],\n",
       "       [6.5986877e+02],\n",
       "       [6.6311768e+02],\n",
       "       [6.6794983e+02],\n",
       "       [6.7352991e+02],\n",
       "       [6.7737701e+02],\n",
       "       [6.7956110e+02],\n",
       "       [6.7784814e+02],\n",
       "       [6.7391315e+02],\n",
       "       [6.6997882e+02],\n",
       "       [6.6747949e+02],\n",
       "       [6.6563660e+02],\n",
       "       [6.6126459e+02],\n",
       "       [6.5306775e+02],\n",
       "       [6.4409967e+02],\n",
       "       [6.3382123e+02],\n",
       "       [6.2578778e+02],\n",
       "       [6.2150549e+02],\n",
       "       [6.1987061e+02],\n",
       "       [6.1746100e+02],\n",
       "       [6.1533252e+02],\n",
       "       [6.1265656e+02],\n",
       "       [6.0925098e+02],\n",
       "       [6.0696014e+02],\n",
       "       [6.0353436e+02],\n",
       "       [5.9955603e+02],\n",
       "       [5.9679047e+02],\n",
       "       [5.9642871e+02],\n",
       "       [5.9852002e+02],\n",
       "       [6.0154895e+02],\n",
       "       [6.0462488e+02],\n",
       "       [6.0707703e+02],\n",
       "       [6.0894159e+02],\n",
       "       [6.1050104e+02],\n",
       "       [6.1037012e+02],\n",
       "       [6.0880341e+02],\n",
       "       [6.0587549e+02],\n",
       "       [5.9943298e+02],\n",
       "       [5.9030048e+02],\n",
       "       [5.7936102e+02],\n",
       "       [5.6872302e+02],\n",
       "       [5.5959222e+02],\n",
       "       [5.5180615e+02],\n",
       "       [5.4332251e+02],\n",
       "       [5.3652423e+02],\n",
       "       [5.2940826e+02],\n",
       "       [5.2378833e+02],\n",
       "       [5.1859570e+02],\n",
       "       [5.0037589e+02],\n",
       "       [4.7740054e+02],\n",
       "       [4.5207938e+02],\n",
       "       [4.2766180e+02],\n",
       "       [4.0944797e+02],\n",
       "       [3.9598047e+02],\n",
       "       [3.9140192e+02],\n",
       "       [3.9540643e+02],\n",
       "       [4.0048676e+02],\n",
       "       [4.0320898e+02]], dtype=float32)"
      ]
     },
     "execution_count": 173,
     "metadata": {},
     "output_type": "execute_result"
    }
   ],
   "source": [
    "gstock_data_pred_actual"
   ]
  },
  {
   "cell_type": "code",
   "execution_count": 175,
   "id": "dd32506b",
   "metadata": {},
   "outputs": [],
   "source": [
    "gstock_data_pred_actual_columns= ['Actual', 'Predicted']"
   ]
  },
  {
   "cell_type": "code",
   "execution_count": 176,
   "id": "cc804a46",
   "metadata": {},
   "outputs": [
    {
     "data": {
      "text/plain": [
       "['Actual', 'Predicted']"
      ]
     },
     "execution_count": 176,
     "metadata": {},
     "output_type": "execute_result"
    }
   ],
   "source": [
    "gstock_data_pred_actual_columns"
   ]
  },
  {
   "cell_type": "code",
   "execution_count": 174,
   "id": "e419355e",
   "metadata": {},
   "outputs": [],
   "source": [
    "#  Visualization"
   ]
  },
  {
   "cell_type": "code",
   "execution_count": 164,
   "id": "b50927c6",
   "metadata": {},
   "outputs": [],
   "source": [
    "# Merging actual and predicted data for better visualization"
   ]
  },
  {
   "cell_type": "code",
   "execution_count": 180,
   "id": "0ed62477",
   "metadata": {},
   "outputs": [
    {
     "ename": "NameError",
     "evalue": "name 'predicted_prices' is not defined",
     "output_type": "error",
     "traceback": [
      "\u001b[1;31m---------------------------------------------------------------------------\u001b[0m",
      "\u001b[1;31mNameError\u001b[0m                                 Traceback (most recent call last)",
      "Cell \u001b[1;32mIn[180], line 1\u001b[0m\n\u001b[1;32m----> 1\u001b[0m merged_gstock_data \u001b[38;5;241m=\u001b[39m pd\u001b[38;5;241m.\u001b[39mconcat([test_dates, actual_prices, predicted_prices], axis\u001b[38;5;241m=\u001b[39m\u001b[38;5;241m1\u001b[39m)\n\u001b[0;32m      2\u001b[0m merged_gstock_data\u001b[38;5;241m.\u001b[39mcolumns \u001b[38;5;241m=\u001b[39m [\u001b[38;5;124m'\u001b[39m\u001b[38;5;124mDate\u001b[39m\u001b[38;5;124m'\u001b[39m, \u001b[38;5;124m'\u001b[39m\u001b[38;5;124mActual\u001b[39m\u001b[38;5;124m'\u001b[39m, \u001b[38;5;124m'\u001b[39m\u001b[38;5;124mPredicted\u001b[39m\u001b[38;5;124m'\u001b[39m]\n",
      "\u001b[1;31mNameError\u001b[0m: name 'predicted_prices' is not defined"
     ]
    }
   ],
   "source": [
    " \n",
    "merged_gstock_data = pd.concat([test_dates, actual, predicted ], axis=1)\n",
    "merged_gstock_data.columns = ['Date', 'Actual', 'Predicted']\n"
   ]
  },
  {
   "cell_type": "code",
   "execution_count": 177,
   "id": "a5c73f1a",
   "metadata": {},
   "outputs": [
    {
     "data": {
      "image/png": "[encoded data removed]",
      "text/plain": [
       "<Figure size 1200x600 with 1 Axes>"
      ]
     },
     "metadata": {},
     "output_type": "display_data"
    }
   ],
   "source": [
    "# Plot actual vs predicted stock prices\n",
    "plt.figure(figsize=(12, 6))\n",
    "sns.lineplot(data=gstock_data_pred_actual)\n",
    "plt.xlabel('Date')\n",
    "plt.ylabel('Stock Price')\n",
    "plt.title('Actual vs Predicted Netflix Stock Prices')\n",
    "plt.show()\n"
   ]
  },
  {
   "cell_type": "code",
   "execution_count": 179,
   "id": "942c30d8",
   "metadata": {},
   "outputs": [
    {
     "data": {
      "image/png": "[encoded data removed]",
      "text/plain": [
       "<Figure size 1200x600 with 1 Axes>"
      ]
     },
     "metadata": {},
     "output_type": "display_data"
    }
   ],
   "source": [
    "plt.figure(figsize=(12, 6))\n",
    "sns.lineplot(data=gstock_data_pred_actual_columns)\n",
    "plt.xlabel('Date')\n",
    "plt.ylabel('Stock Price')\n",
    "plt.title('Actual vs Predicted Netflix Stock Prices')\n",
    "plt.show()"
   ]
  },
  {
   "cell_type": "code",
   "execution_count": null,
   "id": "e468fbd8",
   "metadata": {},
   "outputs": [],
   "source": []
  }
 ],
 "metadata": {
  "kernelspec": {
   "display_name": "Python 3 (ipykernel)",
   "language": "python",
   "name": "python3"
  },
  "language_info": {
   "codemirror_mode": {
    "name": "ipython",
    "version": 3
   },
   "file_extension": ".py",
   "mimetype": "text/x-python",
   "name": "python",
   "nbconvert_exporter": "python",
   "pygments_lexer": "ipython3",
   "version": "3.11.4"
  }
 },
 "nbformat": 4,
 "nbformat_minor": 5
}
